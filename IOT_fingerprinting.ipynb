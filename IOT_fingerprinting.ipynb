{
  "cells": [
    {
      "cell_type": "code",
      "execution_count": null,
      "metadata": {
        "id": "f7e10b05-49a4-42a3-b826-1cc2056bb98b"
      },
      "outputs": [],
      "source": [
        "df = pd.read_csv('master_data - Copy.csv')"
      ],
      "id": "f7e10b05-49a4-42a3-b826-1cc2056bb98b"
    },
    {
      "cell_type": "code",
      "execution_count": null,
      "metadata": {
        "id": "a84e0309-2fc1-4261-886f-b751dad217b9"
      },
      "outputs": [],
      "source": [
        "import pandas as pd\n",
        "import numpy as np\n",
        "import matplotlib.pyplot as plt\n",
        "import seaborn as sns\n",
        "import sklearn\n",
        "\n",
        "import warnings\n",
        "warnings.filterwarnings('ignore')\n",
        "\n",
        "pd.set_option('display.max_columns', 1000)\n",
        "pd.set_option('display.max_rows', 1000)"
      ],
      "id": "a84e0309-2fc1-4261-886f-b751dad217b9"
    },
    {
      "cell_type": "code",
      "execution_count": null,
      "metadata": {
        "id": "b2d31645-021e-4028-b88b-c2e0051beca9"
      },
      "outputs": [],
      "source": [
        "df.head()"
      ],
      "id": "b2d31645-021e-4028-b88b-c2e0051beca9"
    },
    {
      "cell_type": "code",
      "execution_count": null,
      "metadata": {
        "id": "01747e73"
      },
      "outputs": [],
      "source": [
        "df.rename(columns = {'ts':'time'}, inplace=True)\n",
        "df.rename(columns = {'id.orig_p':'orig_p'}, inplace=True)\n",
        "df.rename(columns = {'id.resp_h':'resp_h'}, inplace=True)\n",
        "df.rename(columns = {'id.resp_p':'resp_p'}, inplace=True)"
      ],
      "id": "01747e73"
    },
    {
      "cell_type": "code",
      "execution_count": null,
      "metadata": {
        "id": "869eae00-6e44-467e-b92e-bc12f71a3c71"
      },
      "outputs": [],
      "source": [
        "df.shape, df.dtypes"
      ],
      "id": "869eae00-6e44-467e-b92e-bc12f71a3c71"
    },
    {
      "cell_type": "markdown",
      "metadata": {
        "id": "1bb9424a"
      },
      "source": [
        "## removed unwanted columns"
      ],
      "id": "1bb9424a"
    },
    {
      "cell_type": "code",
      "execution_count": null,
      "metadata": {
        "id": "aa40eb79-c3cc-45e7-b252-5554b7f63dcd"
      },
      "outputs": [],
      "source": [
        "df.isnull().sum()"
      ],
      "id": "aa40eb79-c3cc-45e7-b252-5554b7f63dcd"
    },
    {
      "cell_type": "code",
      "execution_count": null,
      "metadata": {
        "id": "c24af163-b3b0-4eca-8af8-5f9bb6476bc2"
      },
      "outputs": [],
      "source": [
        "df[df.proto.isnull()]"
      ],
      "id": "c24af163-b3b0-4eca-8af8-5f9bb6476bc2"
    },
    {
      "cell_type": "markdown",
      "metadata": {
        "id": "1951d290"
      },
      "source": [
        "## Removed null rows"
      ],
      "id": "1951d290"
    },
    {
      "cell_type": "code",
      "execution_count": null,
      "metadata": {
        "id": "591cc7f2-dab8-4493-8d15-f6a84f089cc8"
      },
      "outputs": [],
      "source": [
        "df.dropna(axis=0, inplace=True)"
      ],
      "id": "591cc7f2-dab8-4493-8d15-f6a84f089cc8"
    },
    {
      "cell_type": "markdown",
      "metadata": {
        "id": "45973430"
      },
      "source": [
        "## No duplicate rows found"
      ],
      "id": "45973430"
    },
    {
      "cell_type": "code",
      "execution_count": null,
      "metadata": {
        "id": "2bae2903",
        "outputId": "1d70420b-8823-426f-aa13-7218acbb7207"
      },
      "outputs": [
        {
          "data": {
            "text/plain": [
              "0"
            ]
          },
          "execution_count": 75,
          "metadata": {},
          "output_type": "execute_result"
        }
      ],
      "source": [
        "df.duplicated().sum()"
      ],
      "id": "2bae2903"
    },
    {
      "cell_type": "markdown",
      "metadata": {
        "id": "c4475e29"
      },
      "source": [
        "## Removing null columns"
      ],
      "id": "c4475e29"
    },
    {
      "cell_type": "code",
      "execution_count": null,
      "metadata": {
        "id": "c42faf55",
        "outputId": "99dc6450-bfc2-4c4a-9744-77e95b9935e5"
      },
      "outputs": [
        {
          "data": {
            "text/html": [
              "<div>\n",
              "<style scoped>\n",
              "    .dataframe tbody tr th:only-of-type {\n",
              "        vertical-align: middle;\n",
              "    }\n",
              "\n",
              "    .dataframe tbody tr th {\n",
              "        vertical-align: top;\n",
              "    }\n",
              "\n",
              "    .dataframe thead th {\n",
              "        text-align: right;\n",
              "    }\n",
              "</style>\n",
              "<table border=\"1\" class=\"dataframe\">\n",
              "  <thead>\n",
              "    <tr style=\"text-align: right;\">\n",
              "      <th></th>\n",
              "      <th>time</th>\n",
              "      <th>uid</th>\n",
              "      <th>id.orig_h</th>\n",
              "      <th>orig_p</th>\n",
              "      <th>resp_h</th>\n",
              "      <th>resp_p</th>\n",
              "      <th>proto</th>\n",
              "      <th>service</th>\n",
              "      <th>duration</th>\n",
              "      <th>orig_bytes</th>\n",
              "      <th>resp_bytes</th>\n",
              "      <th>conn_state</th>\n",
              "      <th>local_orig</th>\n",
              "      <th>local_resp</th>\n",
              "      <th>missed_bytes</th>\n",
              "      <th>history</th>\n",
              "      <th>orig_pkts</th>\n",
              "      <th>orig_ip_bytes</th>\n",
              "      <th>resp_pkts</th>\n",
              "      <th>resp_ip_bytes</th>\n",
              "      <th>tunnel_parents</th>\n",
              "      <th>device_name</th>\n",
              "    </tr>\n",
              "  </thead>\n",
              "  <tbody>\n",
              "    <tr>\n",
              "      <th>0</th>\n",
              "      <td>time</td>\n",
              "      <td>string</td>\n",
              "      <td>addr</td>\n",
              "      <td>port</td>\n",
              "      <td>addr</td>\n",
              "      <td>port</td>\n",
              "      <td>enum</td>\n",
              "      <td>string</td>\n",
              "      <td>interval</td>\n",
              "      <td>count</td>\n",
              "      <td>count</td>\n",
              "      <td>string</td>\n",
              "      <td>bool</td>\n",
              "      <td>bool</td>\n",
              "      <td>count</td>\n",
              "      <td>string</td>\n",
              "      <td>count</td>\n",
              "      <td>count</td>\n",
              "      <td>count</td>\n",
              "      <td>count</td>\n",
              "      <td>set[string]</td>\n",
              "      <td>bml_part1</td>\n",
              "    </tr>\n",
              "    <tr>\n",
              "      <th>1</th>\n",
              "      <td>1603299028</td>\n",
              "      <td>Ccb1chs6QYjNuT7mj</td>\n",
              "      <td>192.168.137.249</td>\n",
              "      <td>33542</td>\n",
              "      <td>114.114.114.114</td>\n",
              "      <td>53</td>\n",
              "      <td>udp</td>\n",
              "      <td>dns</td>\n",
              "      <td>0.188474</td>\n",
              "      <td>180</td>\n",
              "      <td>260</td>\n",
              "      <td>SF</td>\n",
              "      <td>-</td>\n",
              "      <td>-</td>\n",
              "      <td>0</td>\n",
              "      <td>Dd</td>\n",
              "      <td>5</td>\n",
              "      <td>320</td>\n",
              "      <td>5</td>\n",
              "      <td>400</td>\n",
              "      <td>-</td>\n",
              "      <td>bml_part1</td>\n",
              "    </tr>\n",
              "    <tr>\n",
              "      <th>2</th>\n",
              "      <td>1603299028</td>\n",
              "      <td>CWMBan2VrX4sPc02vg</td>\n",
              "      <td>192.168.137.249</td>\n",
              "      <td>40980</td>\n",
              "      <td>8.8.8.8</td>\n",
              "      <td>53</td>\n",
              "      <td>udp</td>\n",
              "      <td>dns</td>\n",
              "      <td>0.507252</td>\n",
              "      <td>185</td>\n",
              "      <td>265</td>\n",
              "      <td>SF</td>\n",
              "      <td>-</td>\n",
              "      <td>-</td>\n",
              "      <td>0</td>\n",
              "      <td>Dd</td>\n",
              "      <td>5</td>\n",
              "      <td>325</td>\n",
              "      <td>5</td>\n",
              "      <td>405</td>\n",
              "      <td>-</td>\n",
              "      <td>bml_part1</td>\n",
              "    </tr>\n",
              "    <tr>\n",
              "      <th>3</th>\n",
              "      <td>1603299025</td>\n",
              "      <td>CD1iTx4BQycLoMMFc</td>\n",
              "      <td>0.0.0.0</td>\n",
              "      <td>68</td>\n",
              "      <td>255.255.255.255</td>\n",
              "      <td>67</td>\n",
              "      <td>udp</td>\n",
              "      <td>dhcp</td>\n",
              "      <td>1.448837</td>\n",
              "      <td>1150</td>\n",
              "      <td>0</td>\n",
              "      <td>S0</td>\n",
              "      <td>-</td>\n",
              "      <td>-</td>\n",
              "      <td>0</td>\n",
              "      <td>D</td>\n",
              "      <td>4</td>\n",
              "      <td>1262</td>\n",
              "      <td>0</td>\n",
              "      <td>0</td>\n",
              "      <td>-</td>\n",
              "      <td>bml_part1</td>\n",
              "    </tr>\n",
              "    <tr>\n",
              "      <th>4</th>\n",
              "      <td>1603299025</td>\n",
              "      <td>CFpWR923J1sryGbFGk</td>\n",
              "      <td>192.168.137.249</td>\n",
              "      <td>68</td>\n",
              "      <td>192.168.137.1</td>\n",
              "      <td>67</td>\n",
              "      <td>udp</td>\n",
              "      <td>dhcp</td>\n",
              "      <td>1.439596</td>\n",
              "      <td>259</td>\n",
              "      <td>1208</td>\n",
              "      <td>SF</td>\n",
              "      <td>-</td>\n",
              "      <td>-</td>\n",
              "      <td>0</td>\n",
              "      <td>^dD</td>\n",
              "      <td>1</td>\n",
              "      <td>287</td>\n",
              "      <td>4</td>\n",
              "      <td>1320</td>\n",
              "      <td>-</td>\n",
              "      <td>bml_part1</td>\n",
              "    </tr>\n",
              "  </tbody>\n",
              "</table>\n",
              "</div>"
            ],
            "text/plain": [
              "         time                 uid        id.orig_h orig_p           resp_h  \\\n",
              "0        time              string             addr   port             addr   \n",
              "1  1603299028   Ccb1chs6QYjNuT7mj  192.168.137.249  33542  114.114.114.114   \n",
              "2  1603299028  CWMBan2VrX4sPc02vg  192.168.137.249  40980          8.8.8.8   \n",
              "3  1603299025   CD1iTx4BQycLoMMFc          0.0.0.0     68  255.255.255.255   \n",
              "4  1603299025  CFpWR923J1sryGbFGk  192.168.137.249     68    192.168.137.1   \n",
              "\n",
              "  resp_p proto service  duration orig_bytes resp_bytes conn_state local_orig  \\\n",
              "0   port  enum  string  interval      count      count     string       bool   \n",
              "1     53   udp     dns  0.188474        180        260         SF          -   \n",
              "2     53   udp     dns  0.507252        185        265         SF          -   \n",
              "3     67   udp    dhcp  1.448837       1150          0         S0          -   \n",
              "4     67   udp    dhcp  1.439596        259       1208         SF          -   \n",
              "\n",
              "  local_resp missed_bytes history orig_pkts orig_ip_bytes resp_pkts  \\\n",
              "0       bool        count  string     count         count     count   \n",
              "1          -            0      Dd         5           320         5   \n",
              "2          -            0      Dd         5           325         5   \n",
              "3          -            0       D         4          1262         0   \n",
              "4          -            0     ^dD         1           287         4   \n",
              "\n",
              "  resp_ip_bytes tunnel_parents device_name  \n",
              "0         count    set[string]   bml_part1  \n",
              "1           400              -   bml_part1  \n",
              "2           405              -   bml_part1  \n",
              "3             0              -   bml_part1  \n",
              "4          1320              -   bml_part1  "
            ]
          },
          "execution_count": 76,
          "metadata": {},
          "output_type": "execute_result"
        }
      ],
      "source": [
        "df.head()"
      ],
      "id": "c42faf55"
    },
    {
      "cell_type": "code",
      "execution_count": null,
      "metadata": {
        "id": "3a0a9a23",
        "outputId": "515ab4b9-8607-4b98-d061-147f3a49b008"
      },
      "outputs": [
        {
          "name": "stdout",
          "output_type": "stream",
          "text": [
            "<class 'pandas.core.frame.DataFrame'>\n",
            "Int64Index: 3371 entries, 0 to 3370\n",
            "Data columns (total 22 columns):\n",
            " #   Column          Non-Null Count  Dtype \n",
            "---  ------          --------------  ----- \n",
            " 0   time            3371 non-null   object\n",
            " 1   uid             3371 non-null   object\n",
            " 2   id.orig_h       3371 non-null   object\n",
            " 3   orig_p          3371 non-null   object\n",
            " 4   resp_h          3371 non-null   object\n",
            " 5   resp_p          3371 non-null   object\n",
            " 6   proto           3371 non-null   object\n",
            " 7   service         3371 non-null   object\n",
            " 8   duration        3371 non-null   object\n",
            " 9   orig_bytes      3371 non-null   object\n",
            " 10  resp_bytes      3371 non-null   object\n",
            " 11  conn_state      3371 non-null   object\n",
            " 12  local_orig      3371 non-null   object\n",
            " 13  local_resp      3371 non-null   object\n",
            " 14  missed_bytes    3371 non-null   object\n",
            " 15  history         3371 non-null   object\n",
            " 16  orig_pkts       3371 non-null   object\n",
            " 17  orig_ip_bytes   3371 non-null   object\n",
            " 18  resp_pkts       3371 non-null   object\n",
            " 19  resp_ip_bytes   3371 non-null   object\n",
            " 20  tunnel_parents  3371 non-null   object\n",
            " 21  device_name     3371 non-null   object\n",
            "dtypes: object(22)\n",
            "memory usage: 605.7+ KB\n"
          ]
        },
        {
          "data": {
            "text/plain": [
              "(time              1958\n",
              " uid               3371\n",
              " id.orig_h           59\n",
              " orig_p            2298\n",
              " resp_h             265\n",
              " resp_p              72\n",
              " proto                4\n",
              " service              7\n",
              " duration          3130\n",
              " orig_bytes         443\n",
              " resp_bytes         305\n",
              " conn_state          11\n",
              " local_orig           2\n",
              " local_resp           2\n",
              " missed_bytes         2\n",
              " history             94\n",
              " orig_pkts          273\n",
              " orig_ip_bytes      564\n",
              " resp_pkts          249\n",
              " resp_ip_bytes      486\n",
              " tunnel_parents       2\n",
              " device_name          6\n",
              " dtype: int64,\n",
              " None)"
            ]
          },
          "execution_count": 77,
          "metadata": {},
          "output_type": "execute_result"
        }
      ],
      "source": [
        "df.nunique(), df.info()"
      ],
      "id": "3a0a9a23"
    },
    {
      "cell_type": "code",
      "execution_count": null,
      "metadata": {
        "id": "46c3f801",
        "outputId": "9d56428a-c99e-4fe7-f587-7eab290946d5"
      },
      "outputs": [
        {
          "data": {
            "text/plain": [
              "-       3370\n",
              "bool       1\n",
              "Name: local_orig, dtype: int64"
            ]
          },
          "execution_count": 78,
          "metadata": {},
          "output_type": "execute_result"
        }
      ],
      "source": [
        "df.local_orig.value_counts()"
      ],
      "id": "46c3f801"
    },
    {
      "cell_type": "code",
      "execution_count": null,
      "metadata": {
        "id": "9676e3ee"
      },
      "outputs": [],
      "source": [
        "df.drop(columns='local_orig', axis=1, inplace=True)"
      ],
      "id": "9676e3ee"
    },
    {
      "cell_type": "code",
      "execution_count": null,
      "metadata": {
        "id": "4cb94f18"
      },
      "outputs": [],
      "source": [
        "df.drop(columns='uid', axis=1, inplace=True)"
      ],
      "id": "4cb94f18"
    },
    {
      "cell_type": "code",
      "execution_count": null,
      "metadata": {
        "id": "5a3fe82a"
      },
      "outputs": [],
      "source": [
        "df.drop(columns='duration', axis=1, inplace=True)"
      ],
      "id": "5a3fe82a"
    },
    {
      "cell_type": "code",
      "execution_count": null,
      "metadata": {
        "id": "bf376057",
        "outputId": "4794b3e5-7226-48a9-d938-88763c6d4c3a"
      },
      "outputs": [
        {
          "data": {
            "text/plain": [
              "Index(['time', 'id.orig_h', 'orig_p', 'resp_h', 'resp_p', 'proto', 'service',\n",
              "       'orig_bytes', 'resp_bytes', 'conn_state', 'local_resp', 'missed_bytes',\n",
              "       'history', 'orig_pkts', 'orig_ip_bytes', 'resp_pkts', 'resp_ip_bytes',\n",
              "       'tunnel_parents', 'device_name'],\n",
              "      dtype='object')"
            ]
          },
          "execution_count": 82,
          "metadata": {},
          "output_type": "execute_result"
        }
      ],
      "source": [
        "df.columns"
      ],
      "id": "bf376057"
    },
    {
      "cell_type": "code",
      "execution_count": null,
      "metadata": {
        "id": "c6cc053b",
        "outputId": "f07cca29-432a-4f19-f6b8-40048abb195b"
      },
      "outputs": [
        {
          "data": {
            "text/plain": [
              "-              3370\n",
              "set[string]       1\n",
              "Name: tunnel_parents, dtype: int64"
            ]
          },
          "execution_count": 83,
          "metadata": {},
          "output_type": "execute_result"
        }
      ],
      "source": [
        "df.tunnel_parents.value_counts()"
      ],
      "id": "c6cc053b"
    },
    {
      "cell_type": "code",
      "execution_count": null,
      "metadata": {
        "id": "1d999e4b"
      },
      "outputs": [],
      "source": [
        "df.drop(columns='tunnel_parents', axis=1, inplace=True)"
      ],
      "id": "1d999e4b"
    },
    {
      "cell_type": "code",
      "execution_count": null,
      "metadata": {
        "id": "9f7dcb20",
        "outputId": "69595b87-06b8-4fea-cd8e-55def54d66fd"
      },
      "outputs": [
        {
          "data": {
            "text/plain": [
              "0        3370\n",
              "count       1\n",
              "Name: missed_bytes, dtype: int64"
            ]
          },
          "execution_count": 85,
          "metadata": {},
          "output_type": "execute_result"
        }
      ],
      "source": [
        "df.missed_bytes.value_counts()"
      ],
      "id": "9f7dcb20"
    },
    {
      "cell_type": "code",
      "execution_count": null,
      "metadata": {
        "id": "4f661cd7"
      },
      "outputs": [],
      "source": [
        "df.drop(columns='missed_bytes', axis=1, inplace=True)"
      ],
      "id": "4f661cd7"
    },
    {
      "cell_type": "code",
      "execution_count": null,
      "metadata": {
        "id": "5a02256c",
        "outputId": "b06a45d5-14e8-49cb-cde3-6739e59c576c"
      },
      "outputs": [
        {
          "data": {
            "text/plain": [
              "-       3370\n",
              "bool       1\n",
              "Name: local_resp, dtype: int64"
            ]
          },
          "execution_count": 87,
          "metadata": {},
          "output_type": "execute_result"
        }
      ],
      "source": [
        "df.local_resp.value_counts()"
      ],
      "id": "5a02256c"
    },
    {
      "cell_type": "code",
      "execution_count": null,
      "metadata": {
        "id": "25c7e8b8"
      },
      "outputs": [],
      "source": [
        "df.drop(columns='local_resp', axis=1, inplace=True)"
      ],
      "id": "25c7e8b8"
    },
    {
      "cell_type": "code",
      "execution_count": null,
      "metadata": {
        "id": "21f6668a"
      },
      "outputs": [],
      "source": [
        "df.drop([0],axis = 0, inplace=True)"
      ],
      "id": "21f6668a"
    },
    {
      "cell_type": "markdown",
      "metadata": {
        "id": "7d6f0cb5"
      },
      "source": [
        "## Splitting data"
      ],
      "id": "7d6f0cb5"
    },
    {
      "cell_type": "code",
      "execution_count": null,
      "metadata": {
        "id": "8cb7e001"
      },
      "outputs": [],
      "source": [
        "from sklearn.model_selection import train_test_split"
      ],
      "id": "8cb7e001"
    },
    {
      "cell_type": "code",
      "execution_count": null,
      "metadata": {
        "id": "14f92b18"
      },
      "outputs": [],
      "source": [
        "X = df.drop(['device_name', 'time'], axis=1)"
      ],
      "id": "14f92b18"
    },
    {
      "cell_type": "code",
      "execution_count": null,
      "metadata": {
        "id": "a23c39d6"
      },
      "outputs": [],
      "source": [
        "Y = df[['device_name', 'time']]"
      ],
      "id": "a23c39d6"
    },
    {
      "cell_type": "code",
      "execution_count": null,
      "metadata": {
        "id": "626c8a17",
        "outputId": "3cb08656-e514-4fd1-8ea2-587e6de3c12e"
      },
      "outputs": [
        {
          "data": {
            "text/html": [
              "<div>\n",
              "<style scoped>\n",
              "    .dataframe tbody tr th:only-of-type {\n",
              "        vertical-align: middle;\n",
              "    }\n",
              "\n",
              "    .dataframe tbody tr th {\n",
              "        vertical-align: top;\n",
              "    }\n",
              "\n",
              "    .dataframe thead th {\n",
              "        text-align: right;\n",
              "    }\n",
              "</style>\n",
              "<table border=\"1\" class=\"dataframe\">\n",
              "  <thead>\n",
              "    <tr style=\"text-align: right;\">\n",
              "      <th></th>\n",
              "      <th>device_name</th>\n",
              "      <th>time</th>\n",
              "    </tr>\n",
              "  </thead>\n",
              "  <tbody>\n",
              "    <tr>\n",
              "      <th>1</th>\n",
              "      <td>bml_part1</td>\n",
              "      <td>1603299028</td>\n",
              "    </tr>\n",
              "    <tr>\n",
              "      <th>2</th>\n",
              "      <td>bml_part1</td>\n",
              "      <td>1603299028</td>\n",
              "    </tr>\n",
              "    <tr>\n",
              "      <th>3</th>\n",
              "      <td>bml_part1</td>\n",
              "      <td>1603299025</td>\n",
              "    </tr>\n",
              "    <tr>\n",
              "      <th>4</th>\n",
              "      <td>bml_part1</td>\n",
              "      <td>1603299025</td>\n",
              "    </tr>\n",
              "    <tr>\n",
              "      <th>5</th>\n",
              "      <td>bml_part1</td>\n",
              "      <td>1603299029</td>\n",
              "    </tr>\n",
              "    <tr>\n",
              "      <th>...</th>\n",
              "      <td>...</td>\n",
              "      <td>...</td>\n",
              "    </tr>\n",
              "    <tr>\n",
              "      <th>3366</th>\n",
              "      <td>TP-Link_MS110</td>\n",
              "      <td>1620378467</td>\n",
              "    </tr>\n",
              "    <tr>\n",
              "      <th>3367</th>\n",
              "      <td>TP-Link_MS110</td>\n",
              "      <td>1620378467</td>\n",
              "    </tr>\n",
              "    <tr>\n",
              "      <th>3368</th>\n",
              "      <td>TP-Link_MS110</td>\n",
              "      <td>1620382069</td>\n",
              "    </tr>\n",
              "    <tr>\n",
              "      <th>3369</th>\n",
              "      <td>TP-Link_MS110</td>\n",
              "      <td>1620382070</td>\n",
              "    </tr>\n",
              "    <tr>\n",
              "      <th>3370</th>\n",
              "      <td>TP-Link_MS110</td>\n",
              "      <td>1620322703</td>\n",
              "    </tr>\n",
              "  </tbody>\n",
              "</table>\n",
              "<p>3370 rows × 2 columns</p>\n",
              "</div>"
            ],
            "text/plain": [
              "        device_name        time\n",
              "1         bml_part1  1603299028\n",
              "2         bml_part1  1603299028\n",
              "3         bml_part1  1603299025\n",
              "4         bml_part1  1603299025\n",
              "5         bml_part1  1603299029\n",
              "...             ...         ...\n",
              "3366  TP-Link_MS110  1620378467\n",
              "3367  TP-Link_MS110  1620378467\n",
              "3368  TP-Link_MS110  1620382069\n",
              "3369  TP-Link_MS110  1620382070\n",
              "3370  TP-Link_MS110  1620322703\n",
              "\n",
              "[3370 rows x 2 columns]"
            ]
          },
          "execution_count": 93,
          "metadata": {},
          "output_type": "execute_result"
        }
      ],
      "source": [
        "Y"
      ],
      "id": "626c8a17"
    },
    {
      "cell_type": "code",
      "execution_count": null,
      "metadata": {
        "id": "3f39c3bb",
        "colab": {
          "base_uri": "https://localhost:8080/",
          "height": 169
        },
        "outputId": "f92cb8f0-1c9e-4b9a-ca12-9cda22dd6fda"
      },
      "outputs": [
        {
          "output_type": "error",
          "ename": "NameError",
          "evalue": "ignored",
          "traceback": [
            "\u001b[0;31m---------------------------------------------------------------------------\u001b[0m",
            "\u001b[0;31mNameError\u001b[0m                                 Traceback (most recent call last)",
            "\u001b[0;32m<ipython-input-11-e9bb1fe6da60>\u001b[0m in \u001b[0;36m<module>\u001b[0;34m\u001b[0m\n\u001b[0;32m----> 1\u001b[0;31m \u001b[0mx_train\u001b[0m\u001b[0;34m,\u001b[0m\u001b[0mx_test\u001b[0m\u001b[0;34m,\u001b[0m\u001b[0my_train\u001b[0m\u001b[0;34m,\u001b[0m\u001b[0my_test\u001b[0m \u001b[0;34m=\u001b[0m \u001b[0mtrain_test_split\u001b[0m\u001b[0;34m(\u001b[0m\u001b[0mX\u001b[0m\u001b[0;34m,\u001b[0m\u001b[0mY\u001b[0m\u001b[0;34m,\u001b[0m\u001b[0mtest_size\u001b[0m\u001b[0;34m=\u001b[0m\u001b[0;36m0.3\u001b[0m\u001b[0;34m,\u001b[0m \u001b[0mrandom_state\u001b[0m\u001b[0;34m=\u001b[0m\u001b[0;36m0\u001b[0m\u001b[0;34m,\u001b[0m \u001b[0mshuffle\u001b[0m\u001b[0;34m=\u001b[0m\u001b[0;32mTrue\u001b[0m\u001b[0;34m)\u001b[0m\u001b[0;34m\u001b[0m\u001b[0;34m\u001b[0m\u001b[0m\n\u001b[0m",
            "\u001b[0;31mNameError\u001b[0m: name 'train_test_split' is not defined"
          ]
        }
      ],
      "source": [
        "x_train,x_test,y_train,y_test = train_test_split(X,Y,test_size=0.3, random_state=0, shuffle=True)"
      ],
      "id": "3f39c3bb"
    },
    {
      "cell_type": "code",
      "execution_count": null,
      "metadata": {
        "id": "5c8dffab",
        "outputId": "d3f909ae-e2b1-4d7b-f514-1f4098206ac4"
      },
      "outputs": [
        {
          "data": {
            "text/plain": [
              "((2359, 14), (1011, 14))"
            ]
          },
          "execution_count": 95,
          "metadata": {},
          "output_type": "execute_result"
        }
      ],
      "source": [
        "x_train.shape, x_test.shape"
      ],
      "id": "5c8dffab"
    },
    {
      "cell_type": "markdown",
      "metadata": {
        "id": "JRdDbSYloN7n"
      },
      "source": [],
      "id": "JRdDbSYloN7n"
    },
    {
      "cell_type": "markdown",
      "metadata": {
        "id": "d876fa8b"
      },
      "source": [
        "# encoding"
      ],
      "id": "d876fa8b"
    },
    {
      "cell_type": "markdown",
      "metadata": {
        "id": "6a60c9ae"
      },
      "source": [
        "# device_name"
      ],
      "id": "6a60c9ae"
    },
    {
      "cell_type": "code",
      "execution_count": null,
      "metadata": {
        "id": "49bca447",
        "outputId": "9e94757a-359d-4482-8375-d7666b0cea59"
      },
      "outputs": [
        {
          "data": {
            "text/plain": [
              "TP-Link_MS110                    886\n",
              "tplink_bulb                      834\n",
              "bml_part3                        216\n",
              "bml_part1                        194\n",
              "NETATMO smart radiator valves    157\n",
              "bml_part2                         72\n",
              "Name: device_name, dtype: int64"
            ]
          },
          "execution_count": 96,
          "metadata": {},
          "output_type": "execute_result"
        }
      ],
      "source": [
        "y_train['device_name'].value_counts()"
      ],
      "id": "49bca447"
    },
    {
      "cell_type": "code",
      "execution_count": null,
      "metadata": {
        "id": "c2f4a15b"
      },
      "outputs": [],
      "source": [
        "from sklearn.preprocessing import LabelEncoder"
      ],
      "id": "c2f4a15b"
    },
    {
      "cell_type": "code",
      "execution_count": null,
      "metadata": {
        "id": "009da480"
      },
      "outputs": [],
      "source": [
        "device_name_enc = LabelEncoder()\n",
        "device_name_enc.fit(y_train['device_name'])\n",
        "y_train['device_name_enc'] = device_name_enc.transform(y_train['device_name'])\n",
        "y_test['device_name_enc'] = device_name_enc.transform(y_test['device_name'])"
      ],
      "id": "009da480"
    },
    {
      "cell_type": "code",
      "execution_count": null,
      "metadata": {
        "id": "0e2cdbbc",
        "outputId": "8cc58668-e93c-4873-c3d3-2664f78ba7a9"
      },
      "outputs": [
        {
          "data": {
            "text/plain": [
              "device_name                    device_name_enc\n",
              "TP-Link_MS110                  1                  886\n",
              "tplink_bulb                    5                  834\n",
              "bml_part3                      4                  216\n",
              "bml_part1                      2                  194\n",
              "NETATMO smart radiator valves  0                  157\n",
              "bml_part2                      3                   72\n",
              "dtype: int64"
            ]
          },
          "execution_count": 99,
          "metadata": {},
          "output_type": "execute_result"
        }
      ],
      "source": [
        "y_train[['device_name', 'device_name_enc']].value_counts()"
      ],
      "id": "0e2cdbbc"
    },
    {
      "cell_type": "code",
      "execution_count": null,
      "metadata": {
        "id": "a5411224"
      },
      "outputs": [],
      "source": [
        "y_train.drop(['device_name', 'time'], axis=1, inplace=True)\n",
        "y_test.drop(['device_name', 'time'], axis=1, inplace=True)"
      ],
      "id": "a5411224"
    },
    {
      "cell_type": "code",
      "execution_count": null,
      "metadata": {
        "id": "84445df1",
        "outputId": "28d46654-c3e6-4bc4-cab9-6b81332c9f81"
      },
      "outputs": [
        {
          "name": "stdout",
          "output_type": "stream",
          "text": [
            "<class 'pandas.core.frame.DataFrame'>\n",
            "Int64Index: 2359 entries, 3370 to 2733\n",
            "Data columns (total 1 columns):\n",
            " #   Column           Non-Null Count  Dtype\n",
            "---  ------           --------------  -----\n",
            " 0   device_name_enc  2359 non-null   int32\n",
            "dtypes: int32(1)\n",
            "memory usage: 27.6 KB\n"
          ]
        }
      ],
      "source": [
        "y_train.info()"
      ],
      "id": "84445df1"
    },
    {
      "cell_type": "code",
      "execution_count": null,
      "metadata": {
        "id": "40716b5f",
        "outputId": "4b6abbb0-a89e-4273-a4f2-80d9fd884afd"
      },
      "outputs": [
        {
          "name": "stdout",
          "output_type": "stream",
          "text": [
            "<class 'pandas.core.frame.DataFrame'>\n",
            "Int64Index: 2359 entries, 3370 to 2733\n",
            "Data columns (total 14 columns):\n",
            " #   Column         Non-Null Count  Dtype \n",
            "---  ------         --------------  ----- \n",
            " 0   id.orig_h      2359 non-null   object\n",
            " 1   orig_p         2359 non-null   object\n",
            " 2   resp_h         2359 non-null   object\n",
            " 3   resp_p         2359 non-null   object\n",
            " 4   proto          2359 non-null   object\n",
            " 5   service        2359 non-null   object\n",
            " 6   orig_bytes     2359 non-null   object\n",
            " 7   resp_bytes     2359 non-null   object\n",
            " 8   conn_state     2359 non-null   object\n",
            " 9   history        2359 non-null   object\n",
            " 10  orig_pkts      2359 non-null   object\n",
            " 11  orig_ip_bytes  2359 non-null   object\n",
            " 12  resp_pkts      2359 non-null   object\n",
            " 13  resp_ip_bytes  2359 non-null   object\n",
            "dtypes: object(14)\n",
            "memory usage: 276.4+ KB\n"
          ]
        },
        {
          "data": {
            "text/plain": [
              "(None,\n",
              " id.orig_h          57\n",
              " orig_p           1641\n",
              " resp_h            227\n",
              " resp_p             65\n",
              " proto               3\n",
              " service             6\n",
              " orig_bytes        335\n",
              " resp_bytes        230\n",
              " conn_state         10\n",
              " history            68\n",
              " orig_pkts         217\n",
              " orig_ip_bytes     423\n",
              " resp_pkts         195\n",
              " resp_ip_bytes     361\n",
              " dtype: int64)"
            ]
          },
          "execution_count": 102,
          "metadata": {},
          "output_type": "execute_result"
        }
      ],
      "source": [
        "x_train.info(), x_train.nunique()"
      ],
      "id": "40716b5f"
    },
    {
      "cell_type": "code",
      "execution_count": null,
      "metadata": {
        "id": "88c5f9f6"
      },
      "outputs": [],
      "source": [
        "#function to drop columns across train and test set\n",
        "def del_or_col(col, train = x_train, test = x_test):\n",
        "    train.drop(col, inplace = True, axis=1)\n",
        "    test.drop(col, inplace = True, axis=1)\n",
        "    return train, test"
      ],
      "id": "88c5f9f6"
    },
    {
      "cell_type": "code",
      "execution_count": null,
      "metadata": {
        "id": "db77d357",
        "outputId": "304e024c-a0fd-4157-f887-7028e3f237db",
        "scrolled": true
      },
      "outputs": [
        {
          "data": {
            "text/html": [
              "<div>\n",
              "<style scoped>\n",
              "    .dataframe tbody tr th:only-of-type {\n",
              "        vertical-align: middle;\n",
              "    }\n",
              "\n",
              "    .dataframe tbody tr th {\n",
              "        vertical-align: top;\n",
              "    }\n",
              "\n",
              "    .dataframe thead th {\n",
              "        text-align: right;\n",
              "    }\n",
              "</style>\n",
              "<table border=\"1\" class=\"dataframe\">\n",
              "  <thead>\n",
              "    <tr style=\"text-align: right;\">\n",
              "      <th></th>\n",
              "      <th>id.orig_h</th>\n",
              "      <th>orig_p</th>\n",
              "      <th>resp_h</th>\n",
              "      <th>resp_p</th>\n",
              "      <th>proto</th>\n",
              "      <th>service</th>\n",
              "      <th>orig_bytes</th>\n",
              "      <th>resp_bytes</th>\n",
              "      <th>conn_state</th>\n",
              "      <th>history</th>\n",
              "      <th>orig_pkts</th>\n",
              "      <th>orig_ip_bytes</th>\n",
              "      <th>resp_pkts</th>\n",
              "      <th>resp_ip_bytes</th>\n",
              "    </tr>\n",
              "  </thead>\n",
              "  <tbody>\n",
              "    <tr>\n",
              "      <th>3370</th>\n",
              "      <td>192.168.137.19</td>\n",
              "      <td>50795</td>\n",
              "      <td>54.247.135.208</td>\n",
              "      <td>443</td>\n",
              "      <td>tcp</td>\n",
              "      <td>ssl</td>\n",
              "      <td>17520</td>\n",
              "      <td>17748</td>\n",
              "      <td>S1</td>\n",
              "      <td>ShADadTttT</td>\n",
              "      <td>543</td>\n",
              "      <td>46656</td>\n",
              "      <td>315</td>\n",
              "      <td>35742</td>\n",
              "    </tr>\n",
              "    <tr>\n",
              "      <th>2978</th>\n",
              "      <td>192.168.137.198</td>\n",
              "      <td>36414</td>\n",
              "      <td>129.250.35.250</td>\n",
              "      <td>123</td>\n",
              "      <td>udp</td>\n",
              "      <td>ntp</td>\n",
              "      <td>48</td>\n",
              "      <td>48</td>\n",
              "      <td>SF</td>\n",
              "      <td>Dd</td>\n",
              "      <td>1</td>\n",
              "      <td>76</td>\n",
              "      <td>1</td>\n",
              "      <td>76</td>\n",
              "    </tr>\n",
              "    <tr>\n",
              "      <th>3345</th>\n",
              "      <td>192.168.137.19</td>\n",
              "      <td>60016</td>\n",
              "      <td>18.233.32.113</td>\n",
              "      <td>443</td>\n",
              "      <td>tcp</td>\n",
              "      <td>ssl</td>\n",
              "      <td>1231</td>\n",
              "      <td>6837</td>\n",
              "      <td>SF</td>\n",
              "      <td>ShADadFf</td>\n",
              "      <td>14</td>\n",
              "      <td>1967</td>\n",
              "      <td>10</td>\n",
              "      <td>7365</td>\n",
              "    </tr>\n",
              "    <tr>\n",
              "      <th>620</th>\n",
              "      <td>192.168.137.229</td>\n",
              "      <td>37223</td>\n",
              "      <td>185.171.123.30</td>\n",
              "      <td>51748</td>\n",
              "      <td>tcp</td>\n",
              "      <td>-</td>\n",
              "      <td>103228</td>\n",
              "      <td>60</td>\n",
              "      <td>SF</td>\n",
              "      <td>ShADadFf</td>\n",
              "      <td>177</td>\n",
              "      <td>112440</td>\n",
              "      <td>161</td>\n",
              "      <td>8440</td>\n",
              "    </tr>\n",
              "    <tr>\n",
              "      <th>1885</th>\n",
              "      <td>192.168.137.66</td>\n",
              "      <td>15932</td>\n",
              "      <td>192.168.137.1</td>\n",
              "      <td>53</td>\n",
              "      <td>udp</td>\n",
              "      <td>dns</td>\n",
              "      <td>30</td>\n",
              "      <td>94</td>\n",
              "      <td>SF</td>\n",
              "      <td>Dd</td>\n",
              "      <td>1</td>\n",
              "      <td>58</td>\n",
              "      <td>1</td>\n",
              "      <td>122</td>\n",
              "    </tr>\n",
              "  </tbody>\n",
              "</table>\n",
              "</div>"
            ],
            "text/plain": [
              "            id.orig_h orig_p          resp_h resp_p proto service orig_bytes  \\\n",
              "3370   192.168.137.19  50795  54.247.135.208    443   tcp     ssl      17520   \n",
              "2978  192.168.137.198  36414  129.250.35.250    123   udp     ntp         48   \n",
              "3345   192.168.137.19  60016   18.233.32.113    443   tcp     ssl       1231   \n",
              "620   192.168.137.229  37223  185.171.123.30  51748   tcp       -     103228   \n",
              "1885   192.168.137.66  15932   192.168.137.1     53   udp     dns         30   \n",
              "\n",
              "     resp_bytes conn_state     history orig_pkts orig_ip_bytes resp_pkts  \\\n",
              "3370      17748         S1  ShADadTttT       543         46656       315   \n",
              "2978         48         SF          Dd         1            76         1   \n",
              "3345       6837         SF    ShADadFf        14          1967        10   \n",
              "620          60         SF    ShADadFf       177        112440       161   \n",
              "1885         94         SF          Dd         1            58         1   \n",
              "\n",
              "     resp_ip_bytes  \n",
              "3370         35742  \n",
              "2978            76  \n",
              "3345          7365  \n",
              "620           8440  \n",
              "1885           122  "
            ]
          },
          "execution_count": 104,
          "metadata": {},
          "output_type": "execute_result"
        }
      ],
      "source": [
        "x_train.head()"
      ],
      "id": "db77d357"
    },
    {
      "cell_type": "code",
      "execution_count": null,
      "metadata": {
        "id": "e5fd1bcf"
      },
      "outputs": [],
      "source": [
        "from sklearn.preprocessing import LabelEncoder"
      ],
      "id": "e5fd1bcf"
    },
    {
      "cell_type": "markdown",
      "metadata": {
        "id": "02079a5a"
      },
      "source": [
        "## id.orig_h"
      ],
      "id": "02079a5a"
    },
    {
      "cell_type": "code",
      "execution_count": null,
      "metadata": {
        "colab": {
          "background_save": true
        },
        "id": "15d5ced3",
        "outputId": "c9cea1f2-70b9-41e5-ab22-ac4d5f2fa819"
      },
      "outputs": [
        {
          "ename": "NameError",
          "evalue": "ignored",
          "output_type": "error",
          "traceback": [
            "\u001b[0;31m---------------------------------------------------------------------------\u001b[0m",
            "\u001b[0;31mNameError\u001b[0m                                 Traceback (most recent call last)",
            "\u001b[0;32m<ipython-input-1-7080ed294a49>\u001b[0m in \u001b[0;36m<module>\u001b[0;34m()\u001b[0m\n\u001b[0;32m----> 1\u001b[0;31m \u001b[0mcond\u001b[0m \u001b[0;34m=\u001b[0m \u001b[0mx_train\u001b[0m\u001b[0;34m[\u001b[0m\u001b[0;34m'id.orig_h'\u001b[0m\u001b[0;34m]\u001b[0m\u001b[0;34m.\u001b[0m\u001b[0mvalue_counts\u001b[0m\u001b[0;34m(\u001b[0m\u001b[0;34m)\u001b[0m\u001b[0;34m\u001b[0m\u001b[0;34m\u001b[0m\u001b[0m\n\u001b[0m\u001b[1;32m      2\u001b[0m \u001b[0mthreshold\u001b[0m \u001b[0;34m=\u001b[0m \u001b[0;36m10\u001b[0m\u001b[0;34m\u001b[0m\u001b[0;34m\u001b[0m\u001b[0m\n\u001b[1;32m      3\u001b[0m \u001b[0mx_train\u001b[0m\u001b[0;34m[\u001b[0m\u001b[0;34m'id.orig_h'\u001b[0m\u001b[0;34m]\u001b[0m \u001b[0;34m=\u001b[0m \u001b[0mnp\u001b[0m\u001b[0;34m.\u001b[0m\u001b[0mwhere\u001b[0m\u001b[0;34m(\u001b[0m\u001b[0mx_train\u001b[0m\u001b[0;34m[\u001b[0m\u001b[0;34m'id.orig_h'\u001b[0m\u001b[0;34m]\u001b[0m\u001b[0;34m.\u001b[0m\u001b[0misin\u001b[0m\u001b[0;34m(\u001b[0m\u001b[0mcond\u001b[0m\u001b[0;34m.\u001b[0m\u001b[0mindex\u001b[0m\u001b[0;34m[\u001b[0m\u001b[0mcond\u001b[0m \u001b[0;34m>=\u001b[0m \u001b[0mthreshold\u001b[0m \u001b[0;34m]\u001b[0m\u001b[0;34m)\u001b[0m\u001b[0;34m,\u001b[0m \u001b[0mx_train\u001b[0m\u001b[0;34m[\u001b[0m\u001b[0;34m'id.orig_h'\u001b[0m\u001b[0;34m]\u001b[0m\u001b[0;34m,\u001b[0m \u001b[0;34m'others'\u001b[0m\u001b[0;34m)\u001b[0m\u001b[0;34m\u001b[0m\u001b[0;34m\u001b[0m\u001b[0m\n\u001b[1;32m      4\u001b[0m \u001b[0;34m\u001b[0m\u001b[0m\n\u001b[1;32m      5\u001b[0m \u001b[0;34m\u001b[0m\u001b[0m\n",
            "\u001b[0;31mNameError\u001b[0m: name 'x_train' is not defined"
          ]
        }
      ],
      "source": [
        "cond = x_train['id.orig_h'].value_counts()\n",
        "threshold = 10\n",
        "x_train['id.orig_h'] = np.where(x_train['id.orig_h'].isin(cond.index[cond >= threshold ]), x_train['id.orig_h'], 'others')\n",
        "\n",
        "\n",
        "cond = x_test['id.orig_h'].value_counts()\n",
        "threshold = 10\n",
        "x_test['id.orig_h'] = np.where(x_test['id.orig_h'].isin(cond.index[cond >= threshold ]), x_test['id.orig_h'], 'others')"
      ],
      "id": "15d5ced3"
    },
    {
      "cell_type": "code",
      "execution_count": null,
      "metadata": {
        "colab": {
          "background_save": true
        },
        "id": "6c7a33df"
      },
      "outputs": [],
      "source": [
        "orig_h_enc = LabelEncoder()\n",
        "orig_h_enc.fit(x_train['id.orig_h'])\n",
        "x_train['orig_h_enc'] = orig_h_enc.transform(x_train['id.orig_h'])\n",
        "x_test['orig_h_enc'] = orig_h_enc.transform(x_test['id.orig_h'])"
      ],
      "id": "6c7a33df"
    },
    {
      "cell_type": "code",
      "execution_count": null,
      "metadata": {
        "colab": {
          "background_save": true
        },
        "id": "ea681264",
        "scrolled": true
      },
      "outputs": [],
      "source": [
        "x_train[['id.orig_h', 'orig_h_enc']].value_counts()"
      ],
      "id": "ea681264"
    },
    {
      "cell_type": "code",
      "execution_count": null,
      "metadata": {
        "colab": {
          "background_save": true
        },
        "id": "ce5fcc7a"
      },
      "outputs": [],
      "source": [
        "x_train, x_test = del_or_col(['id.orig_h'])"
      ],
      "id": "ce5fcc7a"
    },
    {
      "cell_type": "markdown",
      "metadata": {
        "id": "1e662503"
      },
      "source": [
        "## id.orig_p"
      ],
      "id": "1e662503"
    },
    {
      "cell_type": "code",
      "execution_count": null,
      "metadata": {
        "id": "18d0d0ec"
      },
      "outputs": [],
      "source": [
        "cond = x_train['orig_p'].value_counts()\n",
        "threshold = 9\n",
        "x_train['orig_p'] = np.where(x_train['orig_p'].isin(cond.index[cond >= threshold ]), x_train['orig_p'], 'others')\n",
        "\n",
        "\n",
        "cond = x_test['orig_p'].value_counts()\n",
        "threshold = 9\n",
        "x_test['orig_p'] = np.where(x_test['orig_p'].isin(cond.index[cond >= threshold ]), x_test['orig_p'], 'others')"
      ],
      "id": "18d0d0ec"
    },
    {
      "cell_type": "code",
      "execution_count": null,
      "metadata": {
        "id": "51298387"
      },
      "outputs": [],
      "source": [
        "orig_p_enc = LabelEncoder()\n",
        "orig_p_enc.fit(x_train['orig_p'])\n",
        "x_train['orig_p_enc'] = orig_p_enc.transform(x_train['orig_p'])\n",
        "x_test['orig_p_enc'] = orig_p_enc.transform(x_test['orig_p'])"
      ],
      "id": "51298387"
    },
    {
      "cell_type": "code",
      "execution_count": null,
      "metadata": {
        "id": "d53b70ad",
        "outputId": "3b9033c2-75ea-443e-a2ce-154302bac6e4"
      },
      "outputs": [
        {
          "data": {
            "text/plain": [
              "orig_p  orig_p_enc\n",
              "others  13            1668\n",
              "51880   5              262\n",
              "1490    3              225\n",
              "68      11              53\n",
              "5353    6               32\n",
              "131     0               28\n",
              "3       4               21\n",
              "59172   8               12\n",
              "59171   7               11\n",
              "64791   9               11\n",
              "133     1                9\n",
              "137     2                9\n",
              "64792   10               9\n",
              "8000    12               9\n",
              "dtype: int64"
            ]
          },
          "execution_count": 112,
          "metadata": {},
          "output_type": "execute_result"
        }
      ],
      "source": [
        "x_train[['orig_p', 'orig_p_enc']].value_counts()"
      ],
      "id": "d53b70ad"
    },
    {
      "cell_type": "code",
      "execution_count": null,
      "metadata": {
        "id": "5c560c0f"
      },
      "outputs": [],
      "source": [
        "x_train, x_test = del_or_col(['orig_p'])"
      ],
      "id": "5c560c0f"
    },
    {
      "cell_type": "markdown",
      "metadata": {
        "id": "1bb18324"
      },
      "source": [
        "## resp_h"
      ],
      "id": "1bb18324"
    },
    {
      "cell_type": "code",
      "execution_count": null,
      "metadata": {
        "id": "2d223e9a"
      },
      "outputs": [],
      "source": [
        "cond = x_train['resp_h'].value_counts()\n",
        "threshold = 9\n",
        "x_train['resp_h'] = np.where(x_train['resp_h'].isin(cond.index[cond >= threshold ]), x_train['resp_h'], 'others')\n",
        "\n",
        "\n",
        "cond = x_test['resp_h'].value_counts()\n",
        "threshold = 9\n",
        "x_test['resp_h'] = np.where(x_test['resp_h'].isin(cond.index[cond >= threshold ]), x_test['resp_h'], 'others')"
      ],
      "id": "2d223e9a"
    },
    {
      "cell_type": "code",
      "execution_count": null,
      "metadata": {
        "id": "c23e6d59"
      },
      "outputs": [],
      "source": [
        "resp_h_enc = LabelEncoder()\n",
        "resp_h_enc.fit(x_train['resp_h'])\n",
        "x_train['resp_h_enc'] = resp_h_enc.transform(x_train['resp_h'])\n",
        "x_test['resp_h_enc'] = resp_h_enc.transform(x_test['resp_h'])"
      ],
      "id": "c23e6d59"
    },
    {
      "cell_type": "code",
      "execution_count": null,
      "metadata": {
        "id": "a290a42f",
        "outputId": "0598a2bc-23ea-494a-8a54-1b8ac9205ad9",
        "scrolled": true
      },
      "outputs": [
        {
          "data": {
            "text/plain": [
              "resp_h             resp_h_enc\n",
              "192.168.137.1      11            1035\n",
              "others             42             421\n",
              "185.171.123.30     10              58\n",
              "162.159.200.1      6               56\n",
              "49.51.193.116      29              46\n",
              "150.109.20.137     5               45\n",
              "139.155.75.121     3               44\n",
              "3.232.235.243      23              44\n",
              "162.159.200.123    7               43\n",
              "195.113.20.2       14              42\n",
              "ff02::fb           41              30\n",
              "49.51.172.162      28              29\n",
              "23.20.252.213      19              27\n",
              "239.255.255.250    20              26\n",
              "10.50.1.7          0               24\n",
              "255.255.255.255    21              24\n",
              "77.48.148.7        34              22\n",
              "ff02::c            40              22\n",
              "199.195.254.4      15              22\n",
              "52.6.157.174       31              19\n",
              "52.45.56.20        30              19\n",
              "192.168.137.206    12              19\n",
              "34.197.7.30        24              18\n",
              "224.0.0.251        18              16\n",
              "3.211.75.67        22              15\n",
              "125.212.217.167    2               15\n",
              "52.7.214.228       32              14\n",
              "ff02::1:ff0e:94ea  38              14\n",
              "109.74.206.120     1               12\n",
              "46.135.22.42       26              12\n",
              "54.204.62.209      33              12\n",
              "81.2.248.189       35              11\n",
              "147.231.100.5      4               10\n",
              "213.32.40.221      16              10\n",
              "178.79.145.244     8               10\n",
              "46.135.79.90       27              10\n",
              "89.221.210.188     36               9\n",
              "95.215.175.2       37               9\n",
              "37.187.104.44      25               9\n",
              "ff02::2            39               9\n",
              "217.114.59.3       17               9\n",
              "18.233.32.113      9                9\n",
              "192.168.137.255    13               9\n",
              "dtype: int64"
            ]
          },
          "execution_count": 116,
          "metadata": {},
          "output_type": "execute_result"
        }
      ],
      "source": [
        "x_train[['resp_h', 'resp_h_enc']].value_counts()"
      ],
      "id": "a290a42f"
    },
    {
      "cell_type": "code",
      "execution_count": null,
      "metadata": {
        "id": "f1f2acbd"
      },
      "outputs": [],
      "source": [
        "x_train, x_test = del_or_col(['resp_h'])"
      ],
      "id": "f1f2acbd"
    },
    {
      "cell_type": "markdown",
      "metadata": {
        "id": "05bbe130"
      },
      "source": [
        "## resp_p"
      ],
      "id": "05bbe130"
    },
    {
      "cell_type": "code",
      "execution_count": null,
      "metadata": {
        "id": "c08e8cdf",
        "outputId": "38748818-677d-42f0-e896-9e16507b7a5d",
        "scrolled": true
      },
      "outputs": [
        {
          "data": {
            "text/plain": [
              "53       1008\n",
              "123       477\n",
              "443       215\n",
              "51748     119\n",
              "8000      113\n",
              "8001       57\n",
              "67         53\n",
              "3702       44\n",
              "5353       32\n",
              "51880      31\n",
              "130        28\n",
              "3          21\n",
              "25050      14\n",
              "80          9\n",
              "134         9\n",
              "137         9\n",
              "52048       8\n",
              "51747       6\n",
              "5355        6\n",
              "51700       5\n",
              "52556       5\n",
              "51109       5\n",
              "44908       4\n",
              "6025        4\n",
              "1900        4\n",
              "47100       3\n",
              "52402       3\n",
              "40042       3\n",
              "2334        3\n",
              "53377       3\n",
              "50042       3\n",
              "42412       3\n",
              "12520       3\n",
              "53800       3\n",
              "52777       3\n",
              "56613       3\n",
              "10587       3\n",
              "50443       2\n",
              "13299       2\n",
              "33599       2\n",
              "3576        2\n",
              "52959       2\n",
              "36419       2\n",
              "53399       2\n",
              "56097       2\n",
              "4387        2\n",
              "53138       1\n",
              "53805       1\n",
              "14808       1\n",
              "136         1\n",
              "59564       1\n",
              "39757       1\n",
              "10523       1\n",
              "63158       1\n",
              "56332       1\n",
              "60443       1\n",
              "58820       1\n",
              "53600       1\n",
              "57796       1\n",
              "51970       1\n",
              "53022       1\n",
              "40052       1\n",
              "52931       1\n",
              "11290       1\n",
              "65392       1\n",
              "Name: resp_p, dtype: int64"
            ]
          },
          "execution_count": 118,
          "metadata": {},
          "output_type": "execute_result"
        }
      ],
      "source": [
        "x_train['resp_p'].value_counts()"
      ],
      "id": "c08e8cdf"
    },
    {
      "cell_type": "code",
      "execution_count": null,
      "metadata": {
        "id": "69af679b"
      },
      "outputs": [],
      "source": [
        "cond = x_train['resp_p'].value_counts()\n",
        "threshold = 9\n",
        "x_train['resp_p'] = np.where(x_train['resp_p'].isin(cond.index[cond >= threshold ]), x_train['resp_p'], 'others')\n",
        "\n",
        "\n",
        "cond = x_test['resp_p'].value_counts()\n",
        "threshold = 9\n",
        "x_test['resp_p'] = np.where(x_test['resp_p'].isin(cond.index[cond >= threshold ]), x_test['resp_p'], 'others')"
      ],
      "id": "69af679b"
    },
    {
      "cell_type": "code",
      "execution_count": null,
      "metadata": {
        "id": "08bd4916"
      },
      "outputs": [],
      "source": [
        "resp_p_enc = LabelEncoder()\n",
        "resp_p_enc.fit(x_train['resp_p'])\n",
        "x_train['resp_p_enc'] = resp_p_enc.transform(x_train['resp_p'])\n",
        "x_test['resp_p_enc'] = resp_p_enc.transform(x_test['resp_p'])"
      ],
      "id": "08bd4916"
    },
    {
      "cell_type": "code",
      "execution_count": null,
      "metadata": {
        "id": "420b5287",
        "outputId": "a6846783-15da-493e-91e3-17ee39123a67"
      },
      "outputs": [
        {
          "data": {
            "text/plain": [
              "resp_p  resp_p_enc\n",
              "53      10            1008\n",
              "123     0              477\n",
              "443     7              215\n",
              "others  16             120\n",
              "51748   8              119\n",
              "8000    14             113\n",
              "8001    15              57\n",
              "67      12              53\n",
              "3702    6               44\n",
              "5353    11              32\n",
              "51880   9               31\n",
              "130     1               28\n",
              "3       5               21\n",
              "25050   4               14\n",
              "137     3                9\n",
              "134     2                9\n",
              "80      13               9\n",
              "dtype: int64"
            ]
          },
          "execution_count": 121,
          "metadata": {},
          "output_type": "execute_result"
        }
      ],
      "source": [
        "x_train[['resp_p', 'resp_p_enc']].value_counts()"
      ],
      "id": "420b5287"
    },
    {
      "cell_type": "code",
      "execution_count": null,
      "metadata": {
        "id": "95c6a4e9"
      },
      "outputs": [],
      "source": [
        "x_train, x_test = del_or_col(['resp_p'])"
      ],
      "id": "95c6a4e9"
    },
    {
      "cell_type": "markdown",
      "metadata": {
        "id": "f02ed900"
      },
      "source": [
        "## proto"
      ],
      "id": "f02ed900"
    },
    {
      "cell_type": "code",
      "execution_count": null,
      "metadata": {
        "id": "4bb52031"
      },
      "outputs": [],
      "source": [
        "proto_enc = LabelEncoder()\n",
        "proto_enc.fit(x_train['proto'])\n",
        "x_train['proto_enc'] = proto_enc.transform(x_train['proto'])\n",
        "x_test['proto_enc'] = proto_enc.transform(x_test['proto'])"
      ],
      "id": "4bb52031"
    },
    {
      "cell_type": "code",
      "execution_count": null,
      "metadata": {
        "id": "6575d6e2",
        "outputId": "c3d1a1b3-6738-4dda-92ea-1072e5e94d2a"
      },
      "outputs": [
        {
          "data": {
            "text/plain": [
              "proto  proto_enc\n",
              "udp    2            1914\n",
              "tcp    1             386\n",
              "icmp   0              59\n",
              "dtype: int64"
            ]
          },
          "execution_count": 124,
          "metadata": {},
          "output_type": "execute_result"
        }
      ],
      "source": [
        "x_train[['proto', 'proto_enc']].value_counts()"
      ],
      "id": "6575d6e2"
    },
    {
      "cell_type": "code",
      "execution_count": null,
      "metadata": {
        "id": "90182f25"
      },
      "outputs": [],
      "source": [
        "x_train, x_test = del_or_col(['proto'])"
      ],
      "id": "90182f25"
    },
    {
      "cell_type": "markdown",
      "metadata": {
        "id": "4e33ffbc"
      },
      "source": [
        "## service"
      ],
      "id": "4e33ffbc"
    },
    {
      "cell_type": "code",
      "execution_count": null,
      "metadata": {
        "id": "80427d48",
        "outputId": "c3e2cf08-4ea7-4156-aa08-c15ff0692c0d"
      },
      "outputs": [
        {
          "data": {
            "text/plain": [
              "dns     1055\n",
              "-        571\n",
              "ntp      477\n",
              "ssl      202\n",
              "dhcp      53\n",
              "http       1\n",
              "Name: service, dtype: int64"
            ]
          },
          "execution_count": 126,
          "metadata": {},
          "output_type": "execute_result"
        }
      ],
      "source": [
        "x_train['service'].value_counts()"
      ],
      "id": "80427d48"
    },
    {
      "cell_type": "code",
      "execution_count": null,
      "metadata": {
        "id": "8fe3c1f3"
      },
      "outputs": [],
      "source": [
        "service_enc = LabelEncoder()\n",
        "service_enc.fit(x_train['service'])\n",
        "x_train['service_enc'] = service_enc.transform(x_train['service'])\n",
        "x_test['service_enc'] = service_enc.transform(x_test['service'])"
      ],
      "id": "8fe3c1f3"
    },
    {
      "cell_type": "code",
      "execution_count": null,
      "metadata": {
        "id": "4d0e9257",
        "outputId": "8137fe57-94bf-4d29-92ab-2b66612c7a39"
      },
      "outputs": [
        {
          "data": {
            "text/plain": [
              "service  service_enc\n",
              "dns      2              1055\n",
              "-        0               571\n",
              "ntp      4               477\n",
              "ssl      5               202\n",
              "dhcp     1                53\n",
              "http     3                 1\n",
              "dtype: int64"
            ]
          },
          "execution_count": 128,
          "metadata": {},
          "output_type": "execute_result"
        }
      ],
      "source": [
        "x_train[['service', 'service_enc']].value_counts()"
      ],
      "id": "4d0e9257"
    },
    {
      "cell_type": "code",
      "execution_count": null,
      "metadata": {
        "id": "09aa0084"
      },
      "outputs": [],
      "source": [
        "x_train, x_test = del_or_col(['service'])"
      ],
      "id": "09aa0084"
    },
    {
      "cell_type": "markdown",
      "metadata": {
        "id": "311ddc06"
      },
      "source": [
        "## orig_bytes"
      ],
      "id": "311ddc06"
    },
    {
      "cell_type": "code",
      "execution_count": null,
      "metadata": {
        "id": "cdfa31c5",
        "outputId": "0dbc9191-3b90-4d63-fcb6-883c6d7eea5b"
      },
      "outputs": [
        {
          "data": {
            "text/plain": [
              "48         196\n",
              "33         116\n",
              "31          99\n",
              "30          85\n",
              "39          60\n",
              "-           49\n",
              "4592        40\n",
              "1232        25\n",
              "1231        16\n",
              "0           13\n",
              "576         13\n",
              "544         11\n",
              "81060       11\n",
              "44          10\n",
              "40           9\n",
              "32           8\n",
              "38           6\n",
              "851          6\n",
              "1236         6\n",
              "72           5\n",
              "1247         5\n",
              "827          5\n",
              "848          4\n",
              "850          4\n",
              "608          4\n",
              "616          4\n",
              "62           3\n",
              "1096         3\n",
              "548          3\n",
              "112          3\n",
              "1248         3\n",
              "144          3\n",
              "684          3\n",
              "640          3\n",
              "1235         3\n",
              "464          3\n",
              "224          3\n",
              "2258         2\n",
              "448          2\n",
              "1400         2\n",
              "76           2\n",
              "183          2\n",
              "1720         2\n",
              "108          2\n",
              "24           2\n",
              "1432         2\n",
              "96           2\n",
              "1099         2\n",
              "150          2\n",
              "216          2\n",
              "228          2\n",
              "4            2\n",
              "829          2\n",
              "1260         2\n",
              "182          2\n",
              "3668         2\n",
              "11292        1\n",
              "148          1\n",
              "10718        1\n",
              "11705        1\n",
              "898          1\n",
              "22572        1\n",
              "2443872      1\n",
              "162120       1\n",
              "1834         1\n",
              "545764       1\n",
              "136312       1\n",
              "1168         1\n",
              "675109       1\n",
              "38684        1\n",
              "7628         1\n",
              "828          1\n",
              "2502         1\n",
              "189552       1\n",
              "465          1\n",
              "616101       1\n",
              "5672         1\n",
              "9472         1\n",
              "2879420      1\n",
              "24056        1\n",
              "49328        1\n",
              "5040         1\n",
              "72586        1\n",
              "321882       1\n",
              "20460        1\n",
              "24684        1\n",
              "604          1\n",
              "2773820      1\n",
              "2382         1\n",
              "2378         1\n",
              "810          1\n",
              "8576         1\n",
              "2241         1\n",
              "319026       1\n",
              "1259         1\n",
              "10240        1\n",
              "2311         1\n",
              "882          1\n",
              "724          1\n",
              "1410         1\n",
              "1696         1\n",
              "804          1\n",
              "842          1\n",
              "545308       1\n",
              "792          1\n",
              "24924        1\n",
              "104          1\n",
              "461080       1\n",
              "42262        1\n",
              "126          1\n",
              "388          1\n",
              "295          1\n",
              "172440       1\n",
              "459495       1\n",
              "671994       1\n",
              "3106         1\n",
              "126750       1\n",
              "27904        1\n",
              "4702         1\n",
              "880          1\n",
              "1000         1\n",
              "75399        1\n",
              "23748        1\n",
              "572          1\n",
              "5632         1\n",
              "366512       1\n",
              "24849        1\n",
              "40755        1\n",
              "627271       1\n",
              "508881       1\n",
              "527723       1\n",
              "654          1\n",
              "137202       1\n",
              "672          1\n",
              "22036        1\n",
              "33792        1\n",
              "3056828      1\n",
              "73875        1\n",
              "1517         1\n",
              "465386       1\n",
              "308746       1\n",
              "1280         1\n",
              "800          1\n",
              "322586       1\n",
              "5362         1\n",
              "36           1\n",
              "178661       1\n",
              "2351         1\n",
              "64           1\n",
              "164796       1\n",
              "20837        1\n",
              "581564       1\n",
              "565479       1\n",
              "170340       1\n",
              "625116       1\n",
              "23120        1\n",
              "83008        1\n",
              "1282         1\n",
              "551996       1\n",
              "405300       1\n",
              "861          1\n",
              "483658       1\n",
              "567420       1\n",
              "780092       1\n",
              "3283516      1\n",
              "188556       1\n",
              "185          1\n",
              "1272         1\n",
              "256200       1\n",
              "22892        1\n",
              "606          1\n",
              "460332       1\n",
              "23988        1\n",
              "1287         1\n",
              "323126       1\n",
              "562708       1\n",
              "7897         1\n",
              "1233         1\n",
              "176080       1\n",
              "550114       1\n",
              "329609       1\n",
              "171081       1\n",
              "4452         1\n",
              "508162       1\n",
              "256          1\n",
              "8939         1\n",
              "Name: orig_bytes, dtype: int64"
            ]
          },
          "execution_count": 130,
          "metadata": {},
          "output_type": "execute_result"
        }
      ],
      "source": [
        "x_test['orig_bytes'].value_counts()"
      ],
      "id": "cdfa31c5"
    },
    {
      "cell_type": "code",
      "execution_count": null,
      "metadata": {
        "id": "c08748b7"
      },
      "outputs": [],
      "source": [
        "cond = x_train['orig_bytes'].value_counts()\n",
        "threshold = 6\n",
        "x_train['orig_bytes'] = np.where(x_train['orig_bytes'].isin(cond.index[cond >= threshold ]), x_train['orig_bytes'], 'others')\n",
        "\n",
        "\n",
        "cond = x_test['orig_bytes'].value_counts()\n",
        "threshold = 6\n",
        "x_test['orig_bytes'] = np.where(x_test['orig_bytes'].isin(cond.index[cond >= threshold ]), x_test['orig_bytes'], 'others')\n"
      ],
      "id": "c08748b7"
    },
    {
      "cell_type": "code",
      "execution_count": null,
      "metadata": {
        "id": "927c7db6"
      },
      "outputs": [],
      "source": [
        "orig_bytes_enc = LabelEncoder()\n",
        "orig_bytes_enc.fit(x_train['orig_bytes'])\n",
        "x_train['orig_bytes_enc'] = orig_bytes_enc.transform(x_train['orig_bytes'])\n",
        "x_test['orig_bytes_enc'] = orig_bytes_enc.transform(x_test['orig_bytes'])"
      ],
      "id": "927c7db6"
    },
    {
      "cell_type": "code",
      "execution_count": null,
      "metadata": {
        "id": "edd0cb06",
        "outputId": "6eb03a38-1f21-4665-dc2c-10d74d36614e",
        "scrolled": true
      },
      "outputs": [
        {
          "data": {
            "text/plain": [
              "orig_bytes  orig_bytes_enc\n",
              "48          23                470\n",
              "others      34                404\n",
              "33          15                256\n",
              "30          12                235\n",
              "31          13                223\n",
              "39          18                196\n",
              "-           0                 154\n",
              "4592        22                 44\n",
              "1231        4                  37\n",
              "0           1                  29\n",
              "81060       27                 29\n",
              "1232        5                  27\n",
              "576         25                 24\n",
              "40          19                 17\n",
              "1247        8                  17\n",
              "828         28                 16\n",
              "544         24                 16\n",
              "32          14                 15\n",
              "1248        9                  12\n",
              "608         26                 11\n",
              "38          17                 11\n",
              "112         3                  11\n",
              "851         32                 10\n",
              "1235        6                  10\n",
              "36          16                 10\n",
              "829         29                  9\n",
              "150         10                  9\n",
              "96          33                  9\n",
              "1236        7                   8\n",
              "1096        2                   8\n",
              "848         30                  7\n",
              "850         31                  7\n",
              "44          20                  6\n",
              "162120      11                  6\n",
              "448         21                  6\n",
              "dtype: int64"
            ]
          },
          "execution_count": 133,
          "metadata": {},
          "output_type": "execute_result"
        }
      ],
      "source": [
        "x_train[['orig_bytes', 'orig_bytes_enc']].value_counts()"
      ],
      "id": "edd0cb06"
    },
    {
      "cell_type": "code",
      "execution_count": null,
      "metadata": {
        "id": "9d8b0b7d"
      },
      "outputs": [],
      "source": [
        "x_train, x_test = del_or_col(['orig_bytes'])"
      ],
      "id": "9d8b0b7d"
    },
    {
      "cell_type": "markdown",
      "metadata": {
        "id": "10434e62"
      },
      "source": [
        "## resp_bytes"
      ],
      "id": "10434e62"
    },
    {
      "cell_type": "code",
      "execution_count": null,
      "metadata": {
        "id": "159ce59e",
        "outputId": "b994e5fb-449a-4c61-f7ee-c0392f7fa00c"
      },
      "outputs": [
        {
          "data": {
            "text/plain": [
              "48        474\n",
              "97        252\n",
              "0         250\n",
              "94        237\n",
              "70        223\n",
              "119       191\n",
              "-         154\n",
              "60         40\n",
              "32         31\n",
              "6837       25\n",
              "604        25\n",
              "6838       23\n",
              "672        22\n",
              "6839       18\n",
              "194        16\n",
              "6854       15\n",
              "640        15\n",
              "105        11\n",
              "36         10\n",
              "608         8\n",
              "704         8\n",
              "6853        8\n",
              "6896        7\n",
              "6873        6\n",
              "6895        6\n",
              "6866        6\n",
              "8           5\n",
              "5953        5\n",
              "6874        5\n",
              "6843        5\n",
              "6905        5\n",
              "87          5\n",
              "6897        5\n",
              "5974        4\n",
              "6876        4\n",
              "124         4\n",
              "6875        4\n",
              "544         3\n",
              "6906        3\n",
              "6872        3\n",
              "6842        3\n",
              "6844        3\n",
              "736         3\n",
              "1208        3\n",
              "7000        2\n",
              "312         2\n",
              "272         2\n",
              "800         2\n",
              "822         2\n",
              "12905       2\n",
              "816         2\n",
              "1658        2\n",
              "864         2\n",
              "2831        2\n",
              "6855        2\n",
              "503         2\n",
              "576         2\n",
              "6057        2\n",
              "6841        2\n",
              "188         2\n",
              "372         2\n",
              "1250        2\n",
              "108         2\n",
              "3394        2\n",
              "279630      1\n",
              "187         1\n",
              "4956        1\n",
              "485712      1\n",
              "192962      1\n",
              "96580       1\n",
              "239130      1\n",
              "673         1\n",
              "283730      1\n",
              "968         1\n",
              "6474        1\n",
              "6845        1\n",
              "451         1\n",
              "145066      1\n",
              "89196       1\n",
              "35190       1\n",
              "348         1\n",
              "266         1\n",
              "413212      1\n",
              "4791        1\n",
              "101         1\n",
              "516         1\n",
              "250248      1\n",
              "6960        1\n",
              "935         1\n",
              "1442        1\n",
              "6898        1\n",
              "4334        1\n",
              "16271       1\n",
              "232610      1\n",
              "450288      1\n",
              "491152      1\n",
              "32480       1\n",
              "6164        1\n",
              "405246      1\n",
              "5232        1\n",
              "149         1\n",
              "6865        1\n",
              "428         1\n",
              "7612        1\n",
              "479012      1\n",
              "388         1\n",
              "3364        1\n",
              "416         1\n",
              "209766      1\n",
              "2828        1\n",
              "135816      1\n",
              "147494      1\n",
              "2640        1\n",
              "2290        1\n",
              "444216      1\n",
              "10828       1\n",
              "4807        1\n",
              "457696      1\n",
              "2599        1\n",
              "14198       1\n",
              "7351        1\n",
              "3537        1\n",
              "74          1\n",
              "10716       1\n",
              "88          1\n",
              "476156      1\n",
              "4470        1\n",
              "1197        1\n",
              "1032        1\n",
              "1666        1\n",
              "405014      1\n",
              "768         1\n",
              "260         1\n",
              "525         1\n",
              "31          1\n",
              "299218      1\n",
              "302         1\n",
              "290679      1\n",
              "6178        1\n",
              "3507        1\n",
              "414070      1\n",
              "259         1\n",
              "172         1\n",
              "5887        1\n",
              "17748       1\n",
              "8990        1\n",
              "14508       1\n",
              "72          1\n",
              "428950      1\n",
              "211730      1\n",
              "237298      1\n",
              "2053        1\n",
              "12248       1\n",
              "9090        1\n",
              "6856        1\n",
              "5895        1\n",
              "896         1\n",
              "96          1\n",
              "414278      1\n",
              "4967        1\n",
              "603         1\n",
              "8780        1\n",
              "207462      1\n",
              "760         1\n",
              "20506       1\n",
              "483406      1\n",
              "10225       1\n",
              "204314      1\n",
              "10355       1\n",
              "13920       1\n",
              "210         1\n",
              "238         1\n",
              "5281        1\n",
              "30435       1\n",
              "116         1\n",
              "142840      1\n",
              "362         1\n",
              "244         1\n",
              "453296      1\n",
              "729         1\n",
              "291726      1\n",
              "154         1\n",
              "8656        1\n",
              "183492      1\n",
              "28090       1\n",
              "3493        1\n",
              "5423        1\n",
              "212558      1\n",
              "214008      1\n",
              "449806      1\n",
              "1322        1\n",
              "472706      1\n",
              "494812      1\n",
              "1510        1\n",
              "2588        1\n",
              "2120        1\n",
              "976         1\n",
              "44          1\n",
              "6904        1\n",
              "208892      1\n",
              "512         1\n",
              "4558        1\n",
              "5900        1\n",
              "200148      1\n",
              "273214      1\n",
              "524933      1\n",
              "446146      1\n",
              "3328        1\n",
              "6903        1\n",
              "2266        1\n",
              "3874        1\n",
              "5859        1\n",
              "3348        1\n",
              "6506        1\n",
              "540714      1\n",
              "705         1\n",
              "5258        1\n",
              "442788      1\n",
              "4372        1\n",
              "7733        1\n",
              "405504      1\n",
              "208406      1\n",
              "4429        1\n",
              "397098      1\n",
              "271072      1\n",
              "6036        1\n",
              "38546       1\n",
              "7806        1\n",
              "3053        1\n",
              "3434        1\n",
              "Name: resp_bytes, dtype: int64"
            ]
          },
          "execution_count": 135,
          "metadata": {},
          "output_type": "execute_result"
        }
      ],
      "source": [
        "x_train['resp_bytes'].value_counts()"
      ],
      "id": "159ce59e"
    },
    {
      "cell_type": "code",
      "execution_count": null,
      "metadata": {
        "id": "9fa8b34d"
      },
      "outputs": [],
      "source": [
        "cond = x_train['resp_bytes'].value_counts()\n",
        "threshold = 4\n",
        "x_train['resp_bytes'] = np.where(x_train['resp_bytes'].isin(cond.index[cond >= threshold ]), x_train['resp_bytes'], 'others')\n",
        "\n",
        "\n",
        "cond = x_test['resp_bytes'].value_counts()\n",
        "threshold = 9\n",
        "x_test['resp_bytes'] = np.where(x_test['resp_bytes'].isin(cond.index[cond >= threshold ]), x_test['resp_bytes'], 'others')"
      ],
      "id": "9fa8b34d"
    },
    {
      "cell_type": "code",
      "execution_count": null,
      "metadata": {
        "id": "111c062a"
      },
      "outputs": [],
      "source": [
        "resp_bytes_enc = LabelEncoder()\n",
        "resp_bytes_enc.fit(x_train['resp_bytes'])\n",
        "x_train['resp_bytes_enc'] = resp_bytes_enc.transform(x_train['resp_bytes'])\n",
        "x_test['resp_bytes_enc'] = resp_bytes_enc.transform(x_test['resp_bytes'])"
      ],
      "id": "111c062a"
    },
    {
      "cell_type": "code",
      "execution_count": null,
      "metadata": {
        "id": "b9934e8b",
        "outputId": "8cdf3926-a22a-42db-faf7-f99d99baaa26",
        "scrolled": true
      },
      "outputs": [
        {
          "data": {
            "text/plain": [
              "resp_bytes  resp_bytes_enc\n",
              "48          8                 474\n",
              "97          36                252\n",
              "0           1                 250\n",
              "94          35                237\n",
              "others      37                227\n",
              "70          31                223\n",
              "119         3                 191\n",
              "-           0                 154\n",
              "60          11                 40\n",
              "32          6                  31\n",
              "6837        16                 25\n",
              "604         12                 25\n",
              "6838        17                 23\n",
              "672         15                 22\n",
              "6839        18                 18\n",
              "194         5                  16\n",
              "640         14                 15\n",
              "6854        21                 15\n",
              "105         2                  11\n",
              "36          7                  10\n",
              "6853        20                  8\n",
              "704         32                  8\n",
              "608         13                  8\n",
              "6896        28                  7\n",
              "6895        27                  6\n",
              "6873        23                  6\n",
              "6866        22                  6\n",
              "6874        24                  5\n",
              "6897        29                  5\n",
              "6905        30                  5\n",
              "5953        9                   5\n",
              "8           33                  5\n",
              "87          34                  5\n",
              "6843        19                  5\n",
              "6876        26                  4\n",
              "6875        25                  4\n",
              "124         4                   4\n",
              "5974        10                  4\n",
              "dtype: int64"
            ]
          },
          "execution_count": 138,
          "metadata": {},
          "output_type": "execute_result"
        }
      ],
      "source": [
        "x_train[['resp_bytes', 'resp_bytes_enc']].value_counts()"
      ],
      "id": "b9934e8b"
    },
    {
      "cell_type": "code",
      "execution_count": null,
      "metadata": {
        "id": "e1fe3f7c"
      },
      "outputs": [],
      "source": [
        "x_train, x_test = del_or_col(['resp_bytes'])"
      ],
      "id": "e1fe3f7c"
    },
    {
      "cell_type": "markdown",
      "metadata": {
        "id": "c0cf43a1"
      },
      "source": [
        "## conn_state"
      ],
      "id": "c0cf43a1"
    },
    {
      "cell_type": "code",
      "execution_count": null,
      "metadata": {
        "id": "946079b1",
        "outputId": "aaa85984-870a-4e1b-b41c-2faf304abde2"
      },
      "outputs": [
        {
          "data": {
            "text/plain": [
              "SF       1862\n",
              "S0        342\n",
              "OTH        76\n",
              "RSTO       26\n",
              "SHR        26\n",
              "S1         19\n",
              "SH          3\n",
              "S3          2\n",
              "RSTRH       2\n",
              "RSTR        1\n",
              "Name: conn_state, dtype: int64"
            ]
          },
          "execution_count": 140,
          "metadata": {},
          "output_type": "execute_result"
        }
      ],
      "source": [
        "x_train['conn_state'].value_counts()"
      ],
      "id": "946079b1"
    },
    {
      "cell_type": "code",
      "execution_count": null,
      "metadata": {
        "id": "d02a64e2"
      },
      "outputs": [],
      "source": [
        "conn_state_enc = LabelEncoder()\n",
        "conn_state_enc.fit(x_train['conn_state'])\n",
        "x_train['conn_state_enc'] = conn_state_enc.transform(x_train['conn_state'])\n",
        "x_test['conn_state_enc'] = conn_state_enc.transform(x_test['conn_state'])"
      ],
      "id": "d02a64e2"
    },
    {
      "cell_type": "code",
      "execution_count": null,
      "metadata": {
        "id": "bd7d7c39",
        "outputId": "d9dcac91-aab0-4df2-f70b-258587a090bf"
      },
      "outputs": [
        {
          "data": {
            "text/plain": [
              "conn_state  conn_state_enc\n",
              "SF          7                 1862\n",
              "S0          4                  342\n",
              "OTH         0                   76\n",
              "RSTO        1                   26\n",
              "SHR         9                   26\n",
              "S1          5                   19\n",
              "SH          8                    3\n",
              "RSTRH       3                    2\n",
              "S3          6                    2\n",
              "RSTR        2                    1\n",
              "dtype: int64"
            ]
          },
          "execution_count": 142,
          "metadata": {},
          "output_type": "execute_result"
        }
      ],
      "source": [
        "x_train[['conn_state', 'conn_state_enc']].value_counts()"
      ],
      "id": "bd7d7c39"
    },
    {
      "cell_type": "code",
      "execution_count": null,
      "metadata": {
        "id": "62c2f108"
      },
      "outputs": [],
      "source": [
        "x_train, x_test = del_or_col(['conn_state'])"
      ],
      "id": "62c2f108"
    },
    {
      "cell_type": "markdown",
      "metadata": {
        "id": "90e18292"
      },
      "source": [
        "## history"
      ],
      "id": "90e18292"
    },
    {
      "cell_type": "code",
      "execution_count": null,
      "metadata": {
        "id": "f0044692",
        "outputId": "818195dc-6b92-4a69-e6fe-924619dfbd8c",
        "scrolled": true
      },
      "outputs": [
        {
          "data": {
            "text/plain": [
              "Dd               1552\n",
              "D                 335\n",
              "ShADadFf          176\n",
              "-                  59\n",
              "ShADadtFf          35\n",
              "ShADadTFf          27\n",
              "^d                 25\n",
              "ShADadTTFf         20\n",
              "ShADadR            16\n",
              "ShADadFRfR         10\n",
              "S                   8\n",
              "ShADadtFfR          6\n",
              "ShAdDa              5\n",
              "ShADadTt            4\n",
              "ShADadTtFRfR        4\n",
              "ShADadFfRR          4\n",
              "ShADadtFRfR         4\n",
              "ShAdDaR             4\n",
              "ShADadtTFRfR        3\n",
              "ShADTadTFf          3\n",
              "ShADad              3\n",
              "^dD                 3\n",
              "ShADadtTFfR         2\n",
              "DadA                2\n",
              "DadATt              2\n",
              "ShAdDat             2\n",
              "DdAaTt              2\n",
              "ShADadFTf           2\n",
              "AadDr               2\n",
              "DadATttTt           1\n",
              "ShADadtWFf          1\n",
              "ShAdDtTafFr         1\n",
              "ShADadTtFR          1\n",
              "ShADadtR            1\n",
              "ShADTadtFR          1\n",
              "ShADadTFTfr         1\n",
              "ShADdtaTFR          1\n",
              "ShADTFf             1\n",
              "^ft                 1\n",
              "ShADadtWTtT         1\n",
              "F                   1\n",
              "^dADatT             1\n",
              "ShADadTtFf          1\n",
              "DTadtATtTt          1\n",
              "AadD                1\n",
              "ShADadtTTR          1\n",
              "ShADadTttT          1\n",
              "AaDdT               1\n",
              "^dADat              1\n",
              "DadATtFT            1\n",
              "AadtDTTtTt          1\n",
              "ShADadTtFRRfR       1\n",
              "ShADadfF            1\n",
              "DadATtt             1\n",
              "ShADadTtFRr         1\n",
              "ShADadtTf           1\n",
              "ShADadtT            1\n",
              "DdATattTF           1\n",
              "ShADadtTt           1\n",
              "ShAdDtaT            1\n",
              "ShADadTR            1\n",
              "ShADadtFfRR         1\n",
              "ShADadTFRfR         1\n",
              "ShADadFtf           1\n",
              "ShADadtf            1\n",
              "ShADadWFfr          1\n",
              "DdATtat             1\n",
              "DdAtaT              1\n",
              "Name: history, dtype: int64"
            ]
          },
          "execution_count": 144,
          "metadata": {},
          "output_type": "execute_result"
        }
      ],
      "source": [
        "x_train['history'].value_counts()"
      ],
      "id": "f0044692"
    },
    {
      "cell_type": "code",
      "execution_count": null,
      "metadata": {
        "id": "09c6279b"
      },
      "outputs": [],
      "source": [
        "cond = x_train['history'].value_counts()\n",
        "threshold = 8\n",
        "x_train['history'] = np.where(x_train['history'].isin(cond.index[cond >= threshold ]), x_train['history'], 'others')\n",
        "\n",
        "\n",
        "cond = x_test['history'].value_counts()\n",
        "threshold = 8\n",
        "x_test['history'] = np.where(x_test['history'].isin(cond.index[cond >= threshold ]), x_test['history'], 'others')\n"
      ],
      "id": "09c6279b"
    },
    {
      "cell_type": "code",
      "execution_count": null,
      "metadata": {
        "id": "9521347a"
      },
      "outputs": [],
      "source": [
        "history_enc = LabelEncoder()\n",
        "history_enc.fit(x_train['history'])\n",
        "x_train['history_enc'] = history_enc.transform(x_train['history'])\n",
        "x_test['history_enc'] = history_enc.transform(x_test['history'])"
      ],
      "id": "9521347a"
    },
    {
      "cell_type": "code",
      "execution_count": null,
      "metadata": {
        "id": "ba789957",
        "outputId": "8f758421-d818-406e-8b01-93895eab5ccb"
      },
      "outputs": [
        {
          "data": {
            "text/plain": [
              "history     history_enc\n",
              "Dd          2              1552\n",
              "D           1               335\n",
              "ShADadFf    5               176\n",
              "others      11               96\n",
              "-           0                59\n",
              "ShADadtFf   9                35\n",
              "ShADadTFf   7                27\n",
              "^d          10               25\n",
              "ShADadTTFf  8                20\n",
              "ShADadR     6                16\n",
              "ShADadFRfR  4                10\n",
              "S           3                 8\n",
              "dtype: int64"
            ]
          },
          "execution_count": 147,
          "metadata": {},
          "output_type": "execute_result"
        }
      ],
      "source": [
        "x_train[['history', 'history_enc']].value_counts()"
      ],
      "id": "ba789957"
    },
    {
      "cell_type": "code",
      "execution_count": null,
      "metadata": {
        "id": "71f36f15"
      },
      "outputs": [],
      "source": [
        "x_train, x_test = del_or_col(['history'])"
      ],
      "id": "71f36f15"
    },
    {
      "cell_type": "markdown",
      "metadata": {
        "id": "6baaf2ac"
      },
      "source": [
        "## orig_pkts"
      ],
      "id": "6baaf2ac"
    },
    {
      "cell_type": "code",
      "execution_count": null,
      "metadata": {
        "id": "bbdb05e1",
        "outputId": "e82dd3e9-e47f-45d3-e821-b04f573ce2de"
      },
      "outputs": [
        {
          "data": {
            "text/plain": [
              "1       1582\n",
              "14       108\n",
              "2         63\n",
              "7         51\n",
              "15        34\n",
              "3         34\n",
              "16        32\n",
              "90        29\n",
              "0         26\n",
              "4         26\n",
              "10        18\n",
              "6         15\n",
              "39        12\n",
              "40         9\n",
              "9          8\n",
              "12         8\n",
              "17         8\n",
              "8          6\n",
              "42         6\n",
              "180        6\n",
              "41         6\n",
              "13         5\n",
              "43         5\n",
              "38         5\n",
              "37         5\n",
              "135        4\n",
              "5          4\n",
              "45         4\n",
              "33         4\n",
              "46         4\n",
              "34         3\n",
              "36         3\n",
              "450        3\n",
              "248        3\n",
              "44         3\n",
              "21         3\n",
              "145        3\n",
              "11         3\n",
              "270        3\n",
              "341        3\n",
              "18         3\n",
              "360        3\n",
              "229        2\n",
              "54         2\n",
              "53         2\n",
              "412        2\n",
              "424        2\n",
              "75         2\n",
              "67         2\n",
              "172        2\n",
              "59         2\n",
              "58         2\n",
              "28         2\n",
              "55         2\n",
              "20         2\n",
              "468        2\n",
              "26         2\n",
              "120        2\n",
              "177        2\n",
              "100        2\n",
              "62         2\n",
              "108        2\n",
              "19         2\n",
              "56         1\n",
              "458        1\n",
              "156        1\n",
              "116        1\n",
              "1495       1\n",
              "193        1\n",
              "150        1\n",
              "228        1\n",
              "914        1\n",
              "344        1\n",
              "183        1\n",
              "317        1\n",
              "122        1\n",
              "224        1\n",
              "666        1\n",
              "281        1\n",
              "148        1\n",
              "320        1\n",
              "409        1\n",
              "1143       1\n",
              "155        1\n",
              "514        1\n",
              "1873       1\n",
              "249        1\n",
              "175        1\n",
              "4843       1\n",
              "774        1\n",
              "685        1\n",
              "185        1\n",
              "139        1\n",
              "543        1\n",
              "147        1\n",
              "52         1\n",
              "117        1\n",
              "576        1\n",
              "182        1\n",
              "626        1\n",
              "1888       1\n",
              "68         1\n",
              "6006       1\n",
              "268        1\n",
              "29         1\n",
              "1219       1\n",
              "364        1\n",
              "2039       1\n",
              "309        1\n",
              "1092       1\n",
              "443        1\n",
              "181        1\n",
              "454        1\n",
              "329        1\n",
              "406        1\n",
              "9745       1\n",
              "3381       1\n",
              "340        1\n",
              "162        1\n",
              "355        1\n",
              "107        1\n",
              "143        1\n",
              "23         1\n",
              "605        1\n",
              "2050       1\n",
              "995        1\n",
              "1929       1\n",
              "119        1\n",
              "686        1\n",
              "25         1\n",
              "449        1\n",
              "419        1\n",
              "2096       1\n",
              "316        1\n",
              "668        1\n",
              "411        1\n",
              "326        1\n",
              "319        1\n",
              "378        1\n",
              "35         1\n",
              "208        1\n",
              "285        1\n",
              "518        1\n",
              "225        1\n",
              "418        1\n",
              "404        1\n",
              "236        1\n",
              "2192       1\n",
              "47         1\n",
              "564        1\n",
              "154        1\n",
              "96         1\n",
              "111        1\n",
              "414        1\n",
              "24         1\n",
              "531        1\n",
              "48         1\n",
              "427        1\n",
              "174        1\n",
              "65         1\n",
              "498        1\n",
              "30         1\n",
              "5356       1\n",
              "377        1\n",
              "2058       1\n",
              "331        1\n",
              "197        1\n",
              "421        1\n",
              "99         1\n",
              "328        1\n",
              "308        1\n",
              "128        1\n",
              "871        1\n",
              "286        1\n",
              "146        1\n",
              "475        1\n",
              "61         1\n",
              "1797       1\n",
              "247        1\n",
              "1444       1\n",
              "2099       1\n",
              "2030       1\n",
              "497        1\n",
              "1378       1\n",
              "125        1\n",
              "22         1\n",
              "362        1\n",
              "2116       1\n",
              "2065       1\n",
              "1388       1\n",
              "1264       1\n",
              "523        1\n",
              "2253       1\n",
              "335        1\n",
              "31         1\n",
              "64         1\n",
              "358        1\n",
              "2167       1\n",
              "532        1\n",
              "131        1\n",
              "2240       1\n",
              "144        1\n",
              "1838       1\n",
              "2037       1\n",
              "1436       1\n",
              "566        1\n",
              "429        1\n",
              "85         1\n",
              "237        1\n",
              "431        1\n",
              "366        1\n",
              "160        1\n",
              "488        1\n",
              "2092       1\n",
              "213        1\n",
              "57         1\n",
              "211        1\n",
              "Name: orig_pkts, dtype: int64"
            ]
          },
          "execution_count": 149,
          "metadata": {},
          "output_type": "execute_result"
        }
      ],
      "source": [
        "x_train['orig_pkts'].value_counts()"
      ],
      "id": "bbdb05e1"
    },
    {
      "cell_type": "code",
      "execution_count": null,
      "metadata": {
        "id": "fa661a57"
      },
      "outputs": [],
      "source": [
        "cond = x_train['orig_pkts'].value_counts()\n",
        "threshold = 10\n",
        "x_train['orig_pkts'] = np.where(x_train['orig_pkts'].isin(cond.index[cond >= threshold ]), x_train['orig_pkts'], 'others')\n",
        "\n",
        "\n",
        "cond = x_test['orig_pkts'].value_counts()\n",
        "threshold = 10\n",
        "x_test['orig_pkts'] = np.where(x_test['orig_pkts'].isin(cond.index[cond >= threshold ]), x_test['orig_pkts'], 'others')\n"
      ],
      "id": "fa661a57"
    },
    {
      "cell_type": "code",
      "execution_count": null,
      "metadata": {
        "id": "24227fd5"
      },
      "outputs": [],
      "source": [
        "orig_pkts_enc = LabelEncoder()\n",
        "orig_pkts_enc.fit(x_train['orig_pkts'])\n",
        "x_train['orig_pkts_enc'] = orig_pkts_enc.transform(x_train['orig_pkts'])\n",
        "x_test['orig_pkts_enc'] = orig_pkts_enc.transform(x_test['orig_pkts'])"
      ],
      "id": "24227fd5"
    },
    {
      "cell_type": "code",
      "execution_count": null,
      "metadata": {
        "id": "ddd68616",
        "outputId": "e7b24ad9-a79c-43d4-f93c-19a799b4c121"
      },
      "outputs": [
        {
          "data": {
            "text/plain": [
              "orig_pkts  orig_pkts_enc\n",
              "1          1                1582\n",
              "others     13                329\n",
              "14         3                 108\n",
              "2          6                  63\n",
              "7          11                 51\n",
              "15         4                  34\n",
              "3          7                  34\n",
              "16         5                  32\n",
              "90         12                 29\n",
              "0          0                  26\n",
              "4          9                  26\n",
              "10         2                  18\n",
              "6          10                 15\n",
              "39         8                  12\n",
              "dtype: int64"
            ]
          },
          "execution_count": 152,
          "metadata": {},
          "output_type": "execute_result"
        }
      ],
      "source": [
        "x_train[['orig_pkts', 'orig_pkts_enc']].value_counts()"
      ],
      "id": "ddd68616"
    },
    {
      "cell_type": "code",
      "execution_count": null,
      "metadata": {
        "id": "2477f5e1"
      },
      "outputs": [],
      "source": [
        "x_train, x_test = del_or_col(['orig_pkts'])"
      ],
      "id": "2477f5e1"
    },
    {
      "cell_type": "markdown",
      "metadata": {
        "id": "297acca8"
      },
      "source": [
        "## orig_ip_bytes"
      ],
      "id": "297acca8"
    },
    {
      "cell_type": "code",
      "execution_count": null,
      "metadata": {
        "id": "007a94c0",
        "outputId": "e96f44d3-be23-4831-ac6b-e7c5c539df7a"
      },
      "outputs": [
        {
          "data": {
            "text/plain": [
              "76         480\n",
              "61         256\n",
              "58         235\n",
              "59         223\n",
              "67         196\n",
              "64          71\n",
              "68          67\n",
              "1967        34\n",
              "83580       29\n",
              "0           26\n",
              "1968        24\n",
              "4788        22\n",
              "4928        22\n",
              "144         13\n",
              "72          12\n",
              "1983        11\n",
              "66          11\n",
              "1984        10\n",
              "234          9\n",
              "152          9\n",
              "1152         8\n",
              "1971         8\n",
              "1972         7\n",
              "1472         7\n",
              "1495         7\n",
              "904          7\n",
              "2030         6\n",
              "224          6\n",
              "167160       6\n",
              "168          5\n",
              "336          5\n",
              "2612         5\n",
              "52           5\n",
              "304          5\n",
              "1494         5\n",
              "392          5\n",
              "140          4\n",
              "1578         4\n",
              "116          4\n",
              "784          4\n",
              "192          4\n",
              "60           4\n",
              "796          4\n",
              "1969         4\n",
              "1473         4\n",
              "1432         4\n",
              "128          3\n",
              "2580         3\n",
              "2658         3\n",
              "1995         3\n",
              "576          3\n",
              "628          3\n",
              "452          3\n",
              "2862         3\n",
              "1512         3\n",
              "2476         3\n",
              "2716         3\n",
              "1455         3\n",
              "1931         3\n",
              "2664         3\n",
              "1433         3\n",
              "156          3\n",
              "672          3\n",
              "417900       3\n",
              "5012         3\n",
              "334320       3\n",
              "288          3\n",
              "198          2\n",
              "1344         2\n",
              "2568         2\n",
              "673492       2\n",
              "483720       2\n",
              "1513         2\n",
              "350          2\n",
              "3164         2\n",
              "2528         2\n",
              "250740       2\n",
              "716          2\n",
              "70           2\n",
              "4512         2\n",
              "264          2\n",
              "1464         2\n",
              "326630       2\n",
              "2866         2\n",
              "2204         2\n",
              "240          2\n",
              "1431         2\n",
              "2019         2\n",
              "460          2\n",
              "228          2\n",
              "1289         2\n",
              "2666         2\n",
              "2036         2\n",
              "1454         2\n",
              "2934         2\n",
              "63           2\n",
              "2744         2\n",
              "2704         2\n",
              "1505         2\n",
              "2858         2\n",
              "2482         2\n",
              "1996         2\n",
              "1504         2\n",
              "386          2\n",
              "2662         2\n",
              "2908         2\n",
              "204          2\n",
              "100          2\n",
              "132          2\n",
              "2035         2\n",
              "866706       1\n",
              "3156         1\n",
              "173624       1\n",
              "499293       1\n",
              "325          1\n",
              "25920        1\n",
              "90919        1\n",
              "2180         1\n",
              "493860       1\n",
              "30429        1\n",
              "256          1\n",
              "3092         1\n",
              "286760       1\n",
              "2608         1\n",
              "2488         1\n",
              "740652       1\n",
              "107695       1\n",
              "116993       1\n",
              "1536         1\n",
              "1380         1\n",
              "356142       1\n",
              "644          1\n",
              "231184       1\n",
              "153219       1\n",
              "2652         1\n",
              "181420       1\n",
              "2698032      1\n",
              "6342         1\n",
              "565233       1\n",
              "244336       1\n",
              "27288        1\n",
              "36637        1\n",
              "4328         1\n",
              "199180       1\n",
              "326702       1\n",
              "13830        1\n",
              "2020         1\n",
              "3920         1\n",
              "2880         1\n",
              "196          1\n",
              "2408         1\n",
              "1613684      1\n",
              "622          1\n",
              "65           1\n",
              "2302         1\n",
              "1496         1\n",
              "2023         1\n",
              "4739         1\n",
              "1397         1\n",
              "587380       1\n",
              "455498       1\n",
              "2872         1\n",
              "2700         1\n",
              "42056        1\n",
              "297074       1\n",
              "520          1\n",
              "182947       1\n",
              "564138       1\n",
              "123480       1\n",
              "46656        1\n",
              "1678         1\n",
              "829          1\n",
              "2448         1\n",
              "22471        1\n",
              "2047         1\n",
              "306558       1\n",
              "5324         1\n",
              "27936        1\n",
              "1388         1\n",
              "2618589      1\n",
              "904172       1\n",
              "448          1\n",
              "593140       1\n",
              "13329        1\n",
              "701950       1\n",
              "139500       1\n",
              "24552        1\n",
              "232          1\n",
              "396          1\n",
              "26028        1\n",
              "2484         1\n",
              "28296        1\n",
              "485126       1\n",
              "3472         1\n",
              "441923       1\n",
              "5617         1\n",
              "3578         1\n",
              "43685        1\n",
              "575          1\n",
              "467142       1\n",
              "19178        1\n",
              "13157        1\n",
              "587998       1\n",
              "51670        1\n",
              "111861       1\n",
              "3401         1\n",
              "155698       1\n",
              "1463         1\n",
              "137905       1\n",
              "406991       1\n",
              "2967152      1\n",
              "3540         1\n",
              "1286         1\n",
              "177868       1\n",
              "539646       1\n",
              "3052         1\n",
              "302066       1\n",
              "3121         1\n",
              "3500         1\n",
              "462956       1\n",
              "1058         1\n",
              "6142         1\n",
              "26293        1\n",
              "1660         1\n",
              "877008       1\n",
              "2806552      1\n",
              "482242       1\n",
              "1300015      1\n",
              "2988         1\n",
              "2979554      1\n",
              "594          1\n",
              "2628         1\n",
              "761389       1\n",
              "1524         1\n",
              "3008         1\n",
              "5988         1\n",
              "10602        1\n",
              "3132         1\n",
              "3048964      1\n",
              "320          1\n",
              "717019       1\n",
              "3280         1\n",
              "2556         1\n",
              "3616         1\n",
              "4434         1\n",
              "1738550      1\n",
              "2768         1\n",
              "170725       1\n",
              "71           1\n",
              "2472         1\n",
              "680          1\n",
              "155404       1\n",
              "548690       1\n",
              "725961       1\n",
              "453036       1\n",
              "645          1\n",
              "1392         1\n",
              "26800        1\n",
              "287          1\n",
              "209212       1\n",
              "464          1\n",
              "201170       1\n",
              "24122        1\n",
              "205038       1\n",
              "547108       1\n",
              "580052       1\n",
              "36101        1\n",
              "16758        1\n",
              "38468        1\n",
              "800          1\n",
              "299254       1\n",
              "326697       1\n",
              "185818       1\n",
              "3088         1\n",
              "566712       1\n",
              "5724         1\n",
              "113201       1\n",
              "22680        1\n",
              "8120         1\n",
              "682304       1\n",
              "2372         1\n",
              "106197       1\n",
              "1059         1\n",
              "3852         1\n",
              "2696         1\n",
              "161588       1\n",
              "3040         1\n",
              "26712        1\n",
              "2130         1\n",
              "1471         1\n",
              "186320       1\n",
              "114085       1\n",
              "41894        1\n",
              "685673       1\n",
              "4834         1\n",
              "63320        1\n",
              "8470         1\n",
              "3906         1\n",
              "3696         1\n",
              "198214       1\n",
              "187094       1\n",
              "2338         1\n",
              "53244        1\n",
              "3630         1\n",
              "85860        1\n",
              "446628       1\n",
              "2994892      1\n",
              "1919         1\n",
              "412448       1\n",
              "59040        1\n",
              "2820         1\n",
              "224030       1\n",
              "4136         1\n",
              "972          1\n",
              "2008         1\n",
              "134          1\n",
              "127979       1\n",
              "656          1\n",
              "42115        1\n",
              "2623         1\n",
              "112440       1\n",
              "2400         1\n",
              "29016        1\n",
              "83954        1\n",
              "2048         1\n",
              "2800         1\n",
              "2200         1\n",
              "64667        1\n",
              "170334       1\n",
              "25960        1\n",
              "498          1\n",
              "324522       1\n",
              "460240       1\n",
              "120          1\n",
              "1252         1\n",
              "2024         1\n",
              "1351         1\n",
              "2884         1\n",
              "25128        1\n",
              "560408       1\n",
              "2796         1\n",
              "2320         1\n",
              "2613832      1\n",
              "272          1\n",
              "766932       1\n",
              "56           1\n",
              "753792       1\n",
              "2588         1\n",
              "1763937      1\n",
              "65597        1\n",
              "3079572      1\n",
              "2808         1\n",
              "2712         1\n",
              "2066         1\n",
              "1262         1\n",
              "1542254      1\n",
              "505280       1\n",
              "4243         1\n",
              "1502         1\n",
              "1080         1\n",
              "14328        1\n",
              "606          1\n",
              "3279592      1\n",
              "474852       1\n",
              "1503         1\n",
              "7793         1\n",
              "2172912      1\n",
              "7463         1\n",
              "553484       1\n",
              "15343        1\n",
              "326558       1\n",
              "2783         1\n",
              "176464       1\n",
              "1728         1\n",
              "246          1\n",
              "28224        1\n",
              "2031         1\n",
              "1406         1\n",
              "27972        1\n",
              "2976         1\n",
              "426          1\n",
              "2068         1\n",
              "1356         1\n",
              "9146         1\n",
              "20636        1\n",
              "22752        1\n",
              "439414       1\n",
              "571920       1\n",
              "29631        1\n",
              "1543         1\n",
              "9631         1\n",
              "570120       1\n",
              "1962         1\n",
              "725625       1\n",
              "203218       1\n",
              "1551365      1\n",
              "2964232      1\n",
              "2300         1\n",
              "86644        1\n",
              "184842       1\n",
              "2560         1\n",
              "3259204      1\n",
              "609252       1\n",
              "5206         1\n",
              "116899       1\n",
              "309672       1\n",
              "24660        1\n",
              "622599       1\n",
              "2954012      1\n",
              "3054752      1\n",
              "512892       1\n",
              "3005112      1\n",
              "3154032      1\n",
              "1334         1\n",
              "639249       1\n",
              "2803         1\n",
              "25344        1\n",
              "125408       1\n",
              "453768       1\n",
              "190413       1\n",
              "3043124      1\n",
              "5303         1\n",
              "2620         1\n",
              "Name: orig_ip_bytes, dtype: int64"
            ]
          },
          "execution_count": 154,
          "metadata": {},
          "output_type": "execute_result"
        }
      ],
      "source": [
        "x_train['orig_ip_bytes'].value_counts()"
      ],
      "id": "007a94c0"
    },
    {
      "cell_type": "code",
      "execution_count": null,
      "metadata": {
        "id": "85f0dbbe"
      },
      "outputs": [],
      "source": [
        "cond = x_train['orig_ip_bytes'].value_counts()\n",
        "threshold = 6\n",
        "x_train['orig_ip_bytes'] = np.where(x_train['orig_ip_bytes'].isin(cond.index[cond >= threshold ]), x_train['orig_ip_bytes'], 'others')\n",
        "\n",
        "\n",
        "cond = x_test['orig_ip_bytes'].value_counts()\n",
        "threshold = 6\n",
        "x_test['orig_ip_bytes'] = np.where(x_test['orig_ip_bytes'].isin(cond.index[cond >= threshold ]), x_test['orig_ip_bytes'], 'others')\n"
      ],
      "id": "85f0dbbe"
    },
    {
      "cell_type": "code",
      "execution_count": null,
      "metadata": {
        "id": "f740f560"
      },
      "outputs": [],
      "source": [
        "orig_ip_bytes_enc = LabelEncoder()\n",
        "orig_ip_bytes_enc.fit(x_train['orig_ip_bytes'])\n",
        "x_train['orig_ip_bytes_enc'] = orig_ip_bytes_enc.transform(x_train['orig_ip_bytes'])\n",
        "x_test['orig_ip_bytes_enc'] = orig_ip_bytes_enc.transform(x_test['orig_ip_bytes'])"
      ],
      "id": "f740f560"
    },
    {
      "cell_type": "code",
      "execution_count": null,
      "metadata": {
        "id": "e9f8c31c",
        "outputId": "2d7deca0-141e-45f5-dfb6-61eec9240704",
        "scrolled": true
      },
      "outputs": [
        {
          "data": {
            "text/plain": [
              "orig_ip_bytes  orig_ip_bytes_enc\n",
              "others         29                   537\n",
              "76             26                   480\n",
              "61             20                   256\n",
              "58             18                   235\n",
              "59             19                   223\n",
              "67             23                   196\n",
              "64             21                    71\n",
              "68             24                    67\n",
              "1967           7                     34\n",
              "83580          27                    29\n",
              "0              0                     26\n",
              "1968           8                     24\n",
              "4928           17                    22\n",
              "4788           16                    22\n",
              "144            2                     13\n",
              "72             25                    12\n",
              "66             22                    11\n",
              "1983           11                    11\n",
              "1984           12                    10\n",
              "152            5                      9\n",
              "234            15                     9\n",
              "1971           9                      8\n",
              "1152           1                      8\n",
              "1972           10                     7\n",
              "1495           4                      7\n",
              "1472           3                      7\n",
              "904            28                     7\n",
              "167160         6                      6\n",
              "224            14                     6\n",
              "2030           13                     6\n",
              "dtype: int64"
            ]
          },
          "execution_count": 157,
          "metadata": {},
          "output_type": "execute_result"
        }
      ],
      "source": [
        "x_train[['orig_ip_bytes', 'orig_ip_bytes_enc']].value_counts()"
      ],
      "id": "e9f8c31c"
    },
    {
      "cell_type": "code",
      "execution_count": null,
      "metadata": {
        "id": "9c533999"
      },
      "outputs": [],
      "source": [
        "x_train, x_test = del_or_col(['orig_ip_bytes'])"
      ],
      "id": "9c533999"
    },
    {
      "cell_type": "markdown",
      "metadata": {
        "id": "5dd1b0ea"
      },
      "source": [
        "## resp_pkts"
      ],
      "id": "5dd1b0ea"
    },
    {
      "cell_type": "code",
      "execution_count": null,
      "metadata": {
        "id": "d6d1f8aa",
        "outputId": "646f8695-502c-4d5b-f75c-d7ecd98fb9eb",
        "scrolled": true
      },
      "outputs": [
        {
          "data": {
            "text/plain": [
              "1        586\n",
              "0        173\n",
              "11        40\n",
              "12        22\n",
              "2         18\n",
              "10        13\n",
              "39         7\n",
              "5          7\n",
              "13         6\n",
              "41         5\n",
              "42         5\n",
              "43         5\n",
              "215        4\n",
              "7          3\n",
              "18         3\n",
              "37         3\n",
              "9          3\n",
              "8          3\n",
              "20         3\n",
              "38         3\n",
              "3          3\n",
              "166        2\n",
              "165        2\n",
              "159        2\n",
              "14         2\n",
              "129        2\n",
              "4          2\n",
              "63         2\n",
              "45         2\n",
              "36         2\n",
              "40         2\n",
              "15         2\n",
              "6          1\n",
              "101        1\n",
              "320        1\n",
              "770        1\n",
              "188        1\n",
              "109        1\n",
              "324        1\n",
              "519        1\n",
              "658        1\n",
              "895        1\n",
              "119        1\n",
              "2941       1\n",
              "135        1\n",
              "220        1\n",
              "806        1\n",
              "190        1\n",
              "321        1\n",
              "338        1\n",
              "134        1\n",
              "353        1\n",
              "894        1\n",
              "301        1\n",
              "209        1\n",
              "24         1\n",
              "838        1\n",
              "78         1\n",
              "30         1\n",
              "44         1\n",
              "12800      1\n",
              "117        1\n",
              "96         1\n",
              "270        1\n",
              "27         1\n",
              "158        1\n",
              "108        1\n",
              "132        1\n",
              "1166       1\n",
              "72         1\n",
              "248        1\n",
              "89         1\n",
              "151        1\n",
              "356        1\n",
              "181        1\n",
              "116        1\n",
              "700        1\n",
              "211        1\n",
              "374        1\n",
              "295        1\n",
              "149        1\n",
              "233        1\n",
              "762        1\n",
              "290        1\n",
              "118        1\n",
              "164        1\n",
              "386        1\n",
              "79         1\n",
              "927        1\n",
              "368        1\n",
              "992        1\n",
              "111        1\n",
              "1218       1\n",
              "16         1\n",
              "19         1\n",
              "245        1\n",
              "280        1\n",
              "120        1\n",
              "227        1\n",
              "167        1\n",
              "155        1\n",
              "189        1\n",
              "345        1\n",
              "107        1\n",
              "308        1\n",
              "178        1\n",
              "Name: resp_pkts, dtype: int64"
            ]
          },
          "execution_count": 159,
          "metadata": {},
          "output_type": "execute_result"
        }
      ],
      "source": [
        "x_test['resp_pkts'].value_counts()"
      ],
      "id": "d6d1f8aa"
    },
    {
      "cell_type": "code",
      "execution_count": null,
      "metadata": {
        "id": "36914a14"
      },
      "outputs": [],
      "source": [
        "cond = x_train['resp_pkts'].value_counts()\n",
        "threshold = 8\n",
        "x_train['resp_pkts'] = np.where(x_train['resp_pkts'].isin(cond.index[cond >= threshold ]), x_train['resp_pkts'], 'others')\n",
        "\n",
        "\n",
        "cond = x_test['resp_pkts'].value_counts()\n",
        "threshold = 8\n",
        "x_test['resp_pkts'] = np.where(x_test['resp_pkts'].isin(cond.index[cond >= threshold ]), x_test['resp_pkts'], 'others')\n"
      ],
      "id": "36914a14"
    },
    {
      "cell_type": "code",
      "execution_count": null,
      "metadata": {
        "id": "b523c8c5"
      },
      "outputs": [],
      "source": [
        "resp_pkts_enc = LabelEncoder()\n",
        "resp_pkts_enc.fit(x_train['resp_pkts'])\n",
        "x_train['resp_pkts_enc'] = resp_pkts_enc.transform(x_train['resp_pkts'])\n",
        "x_test['resp_pkts_enc'] = resp_pkts_enc.transform(x_test['resp_pkts'])"
      ],
      "id": "b523c8c5"
    },
    {
      "cell_type": "code",
      "execution_count": null,
      "metadata": {
        "id": "1d00934d",
        "outputId": "f9d0d8c0-0c5b-4097-9b72-172be3253b7f"
      },
      "outputs": [
        {
          "data": {
            "text/plain": [
              "resp_pkts  resp_pkts_enc\n",
              "1          1                1441\n",
              "0          0                 403\n",
              "others     11                273\n",
              "11         3                  73\n",
              "10         2                  46\n",
              "12         4                  39\n",
              "2          7                  33\n",
              "13         5                  15\n",
              "39         9                  11\n",
              "14         6                   9\n",
              "37         8                   8\n",
              "40         10                  8\n",
              "dtype: int64"
            ]
          },
          "execution_count": 162,
          "metadata": {},
          "output_type": "execute_result"
        }
      ],
      "source": [
        "x_train[['resp_pkts', 'resp_pkts_enc']].value_counts()"
      ],
      "id": "1d00934d"
    },
    {
      "cell_type": "code",
      "execution_count": null,
      "metadata": {
        "id": "9262a576"
      },
      "outputs": [],
      "source": [
        "x_train, x_test = del_or_col(['resp_pkts'])"
      ],
      "id": "9262a576"
    },
    {
      "cell_type": "markdown",
      "metadata": {
        "id": "cfb70c44"
      },
      "source": [
        "## resp_ip_bytes"
      ],
      "id": "cfb70c44"
    },
    {
      "cell_type": "code",
      "execution_count": null,
      "metadata": {
        "id": "06a7d72c",
        "outputId": "23b1b8ff-554e-4432-dfbe-f209db4e8ac2"
      },
      "outputs": [
        {
          "data": {
            "text/plain": [
              "76        199\n",
              "0         173\n",
              "125       115\n",
              "98         99\n",
              "122        85\n",
              "147        59\n",
              "7418       14\n",
              "660        11\n",
              "222         8\n",
              "8676        6\n",
              "133         6\n",
              "7481        6\n",
              "7417        5\n",
              "7482        4\n",
              "134         4\n",
              "36          4\n",
              "2676        4\n",
              "8675        3\n",
              "2896        3\n",
              "128         3\n",
              "8652        3\n",
              "7366        3\n",
              "2980        2\n",
              "2760        2\n",
              "7470        2\n",
              "1368        2\n",
              "403         2\n",
              "152         2\n",
              "2708        2\n",
              "7485        2\n",
              "7446        2\n",
              "196         2\n",
              "16546       2\n",
              "2948        2\n",
              "2624        2\n",
              "7381        2\n",
              "402         2\n",
              "2572        2\n",
              "2812        2\n",
              "7693        2\n",
              "6566        2\n",
              "6902        1\n",
              "66270       1\n",
              "16916       1\n",
              "2992        1\n",
              "55660       1\n",
              "448         1\n",
              "124432      1\n",
              "453670      1\n",
              "8581        1\n",
              "3053        1\n",
              "8333        1\n",
              "306         1\n",
              "356         1\n",
              "37781       1\n",
              "6450        1\n",
              "20462       1\n",
              "7550        1\n",
              "167532      1\n",
              "717         1\n",
              "139506      1\n",
              "3084        1\n",
              "8653        1\n",
              "652         1\n",
              "7580        1\n",
              "5864        1\n",
              "17450       1\n",
              "16912       1\n",
              "42064       1\n",
              "13903       1\n",
              "5236        1\n",
              "72          1\n",
              "86564       1\n",
              "5096        1\n",
              "7395        1\n",
              "14412       1\n",
              "1236        1\n",
              "536060      1\n",
              "278238      1\n",
              "3000        1\n",
              "2350        1\n",
              "6058        1\n",
              "43668       1\n",
              "2844        1\n",
              "5698        1\n",
              "5200        1\n",
              "271728      1\n",
              "17884       1\n",
              "7483        1\n",
              "7538        1\n",
              "2520        1\n",
              "4005        1\n",
              "5332        1\n",
              "9890        1\n",
              "568         1\n",
              "4612        1\n",
              "263         1\n",
              "7367        1\n",
              "409796      1\n",
              "7784        1\n",
              "1508        1\n",
              "471530      1\n",
              "722         1\n",
              "6839        1\n",
              "46540       1\n",
              "10130       1\n",
              "485         1\n",
              "552         1\n",
              "8712        1\n",
              "7621        1\n",
              "3229        1\n",
              "8296        1\n",
              "2052        1\n",
              "188         1\n",
              "14108       1\n",
              "7536        1\n",
              "4222        1\n",
              "132         1\n",
              "13500       1\n",
              "63403       1\n",
              "2908        1\n",
              "7551        1\n",
              "6640        1\n",
              "8608        1\n",
              "11248       1\n",
              "8582        1\n",
              "12964       1\n",
              "1472        1\n",
              "61292       1\n",
              "40169       1\n",
              "3526        1\n",
              "2592        1\n",
              "211106      1\n",
              "31975       1\n",
              "3268        1\n",
              "7435        1\n",
              "8692        1\n",
              "6124        1\n",
              "12184       1\n",
              "5609        1\n",
              "16088       1\n",
              "14965       1\n",
              "7064        1\n",
              "7100        1\n",
              "64          1\n",
              "1320        1\n",
              "285628      1\n",
              "9255        1\n",
              "7540        1\n",
              "244962      1\n",
              "481864      1\n",
              "7423        1\n",
              "8693        1\n",
              "8835        1\n",
              "10406       1\n",
              "48316       1\n",
              "7497        1\n",
              "2864        1\n",
              "7421        1\n",
              "734         1\n",
              "298082      1\n",
              "3549        1\n",
              "432772      1\n",
              "6618        1\n",
              "2488        1\n",
              "8228        1\n",
              "192         1\n",
              "228         1\n",
              "3105        1\n",
              "8128        1\n",
              "405         1\n",
              "218792      1\n",
              "51696       1\n",
              "14612       1\n",
              "7310        1\n",
              "12161       1\n",
              "476064      1\n",
              "12040       1\n",
              "7864        1\n",
              "29434       1\n",
              "15408       1\n",
              "12173       1\n",
              "266         1\n",
              "324         1\n",
              "1400        1\n",
              "2688        1\n",
              "11040       1\n",
              "7365        1\n",
              "7484        1\n",
              "8688        1\n",
              "9480        1\n",
              "796         1\n",
              "458808      1\n",
              "200026      1\n",
              "1592        1\n",
              "100         1\n",
              "21148       1\n",
              "Name: resp_ip_bytes, dtype: int64"
            ]
          },
          "execution_count": 164,
          "metadata": {},
          "output_type": "execute_result"
        }
      ],
      "source": [
        "x_test['resp_ip_bytes'].value_counts()"
      ],
      "id": "06a7d72c"
    },
    {
      "cell_type": "code",
      "execution_count": null,
      "metadata": {
        "id": "a09d5ad6"
      },
      "outputs": [],
      "source": [
        "cond = x_train['resp_ip_bytes'].value_counts()\n",
        "threshold = 5\n",
        "x_train['resp_ip_bytes'] = np.where(x_train['resp_ip_bytes'].isin(cond.index[cond >= threshold ]), x_train['resp_ip_bytes'], 'others')\n",
        "\n",
        "\n",
        "cond = x_test['resp_ip_bytes'].value_counts()\n",
        "threshold = 45\n",
        "x_test['resp_ip_bytes'] = np.where(x_test['resp_ip_bytes'].isin(cond.index[cond >= threshold ]), x_test['resp_ip_bytes'], 'others')\n"
      ],
      "id": "a09d5ad6"
    },
    {
      "cell_type": "code",
      "execution_count": null,
      "metadata": {
        "id": "5587c39e"
      },
      "outputs": [],
      "source": [
        "resp_ip_bytes_enc = LabelEncoder()\n",
        "resp_ip_bytes_enc.fit(x_train['resp_ip_bytes'])\n",
        "x_train['resp_ip_bytes_enc'] = resp_ip_bytes_enc.transform(x_train['resp_ip_bytes'])\n",
        "x_test['resp_ip_bytes_enc'] = resp_ip_bytes_enc.transform(x_test['resp_ip_bytes'])"
      ],
      "id": "5587c39e"
    },
    {
      "cell_type": "code",
      "execution_count": null,
      "metadata": {
        "id": "9c888563",
        "outputId": "394f83e8-7f31-4e97-bf8d-80a722b2480c",
        "scrolled": true
      },
      "outputs": [
        {
          "data": {
            "text/plain": [
              "resp_ip_bytes  resp_ip_bytes_enc\n",
              "76             21                   474\n",
              "others         23                   436\n",
              "0              0                    403\n",
              "125            3                    252\n",
              "122            2                    237\n",
              "98             22                   223\n",
              "147            5                    191\n",
              "660            12                    25\n",
              "222            7                     16\n",
              "7418           17                    12\n",
              "133            4                     11\n",
              "64             11                    10\n",
              "7417           16                     9\n",
              "2708           8                      7\n",
              "7366           14                     6\n",
              "7434           19                     6\n",
              "7481           20                     6\n",
              "2760           9                      5\n",
              "36             10                     5\n",
              "115            1                      5\n",
              "7382           15                     5\n",
              "7419           18                     5\n",
              "152            6                      5\n",
              "7365           13                     5\n",
              "dtype: int64"
            ]
          },
          "execution_count": 167,
          "metadata": {},
          "output_type": "execute_result"
        }
      ],
      "source": [
        "x_train[['resp_ip_bytes', 'resp_ip_bytes_enc']].value_counts()"
      ],
      "id": "9c888563"
    },
    {
      "cell_type": "code",
      "execution_count": null,
      "metadata": {
        "id": "741646e7"
      },
      "outputs": [],
      "source": [
        "x_train, x_test = del_or_col(['resp_ip_bytes'])"
      ],
      "id": "741646e7"
    },
    {
      "cell_type": "markdown",
      "metadata": {
        "id": "a2f86b96"
      },
      "source": [
        "## correlation matrix"
      ],
      "id": "a2f86b96"
    },
    {
      "cell_type": "code",
      "execution_count": null,
      "metadata": {
        "id": "237edb83",
        "outputId": "8048063c-8e59-4dc1-d491-fd73ae541fef"
      },
      "outputs": [
        {
          "data": {
            "text/plain": [
              "<AxesSubplot:>"
            ]
          },
          "execution_count": 169,
          "metadata": {},
          "output_type": "execute_result"
        },
        {
          "data": {
            "image/png": "[encoded data removed]",
            "text/plain": [
              "<Figure size 864x720 with 2 Axes>"
            ]
          },
          "metadata": {},
          "output_type": "display_data"
        }
      ],
      "source": [
        "correlmat = x_train.merge(y_train, on=x_train.index).corr()\n",
        "plt.subplots(figsize=(12,10))\n",
        "sns.heatmap(correlmat, linewidths=2, annot=True, annot_kws={\"size\": 9})"
      ],
      "id": "237edb83"
    },
    {
      "cell_type": "markdown",
      "metadata": {
        "id": "79a2e9e1"
      },
      "source": [
        "# Modelling"
      ],
      "id": "79a2e9e1"
    },
    {
      "cell_type": "code",
      "execution_count": null,
      "metadata": {
        "id": "7eb084fb"
      },
      "outputs": [],
      "source": [
        "from sklearn.svm import SVC\n",
        "from sklearn.ensemble import RandomForestClassifier\n",
        "from sklearn.metrics import precision_score\n",
        "from sklearn.metrics import accuracy_score\n",
        "from sklearn.metrics import f1_score"
      ],
      "id": "7eb084fb"
    },
    {
      "cell_type": "code",
      "execution_count": null,
      "metadata": {
        "id": "405771a0"
      },
      "outputs": [],
      "source": [
        "precision = []\n",
        "accuracy = []\n",
        "f1Score = []\n",
        "algo = []"
      ],
      "id": "405771a0"
    },
    {
      "cell_type": "code",
      "execution_count": null,
      "metadata": {
        "id": "14752158",
        "outputId": "1dfc85e1-c361-4a70-d2bd-884caf68c46d"
      },
      "outputs": [
        {
          "data": {
            "text/plain": [
              "SVC()"
            ]
          },
          "execution_count": 172,
          "metadata": {},
          "output_type": "execute_result"
        }
      ],
      "source": [
        "# Fitting SVC to the Training Set\n",
        "algo.append('SVC')\n",
        "svc_model = SVC()\n",
        "svc_model.fit(x_train,y_train)"
      ],
      "id": "14752158"
    },
    {
      "cell_type": "code",
      "execution_count": null,
      "metadata": {
        "id": "645b717e"
      },
      "outputs": [],
      "source": [
        "predicted = svc_model.predict(x_test)"
      ],
      "id": "645b717e"
    },
    {
      "cell_type": "code",
      "execution_count": null,
      "metadata": {
        "id": "e6d0651f"
      },
      "outputs": [],
      "source": [
        "precision.append(precision_score(y_test, predicted, average='micro'))"
      ],
      "id": "e6d0651f"
    },
    {
      "cell_type": "code",
      "execution_count": null,
      "metadata": {
        "id": "9078a074"
      },
      "outputs": [],
      "source": [
        "accuracy.append(accuracy_score(y_test, predicted, normalize=False))"
      ],
      "id": "9078a074"
    },
    {
      "cell_type": "code",
      "execution_count": null,
      "metadata": {
        "id": "63d99724"
      },
      "outputs": [],
      "source": [
        "f1Score.append(f1_score(y_test, predicted, average='micro'))"
      ],
      "id": "63d99724"
    },
    {
      "cell_type": "code",
      "execution_count": null,
      "metadata": {
        "id": "70c00c1c",
        "outputId": "74a38bc7-7048-45ad-b028-472f23728499"
      },
      "outputs": [
        {
          "data": {
            "text/plain": [
              "RandomForestClassifier()"
            ]
          },
          "execution_count": 177,
          "metadata": {},
          "output_type": "execute_result"
        }
      ],
      "source": [
        "# Fitting RFC to the Training Set\n",
        "algo.append('RFC')\n",
        "rfc_model = RandomForestClassifier()\n",
        "rfc_model.fit(x_train,y_train)"
      ],
      "id": "70c00c1c"
    },
    {
      "cell_type": "code",
      "execution_count": null,
      "metadata": {
        "id": "a2ac719b"
      },
      "outputs": [],
      "source": [
        "predicted = rfc_model.predict(x_test)"
      ],
      "id": "a2ac719b"
    },
    {
      "cell_type": "code",
      "execution_count": null,
      "metadata": {
        "id": "7a1e4533"
      },
      "outputs": [],
      "source": [
        "precision.append(precision_score(y_test, predicted, average='micro'))\n",
        "\n",
        "accuracy.append(accuracy_score(y_test, predicted, normalize=False))\n",
        "\n",
        "f1Score.append(f1_score(y_test, predicted, average='micro'))"
      ],
      "id": "7a1e4533"
    },
    {
      "cell_type": "code",
      "execution_count": null,
      "metadata": {
        "id": "86f5224d"
      },
      "outputs": [],
      "source": [
        "comparison = pd.DataFrame(list(zip(algo, precision, accuracy, f1Score)), columns = ['Algorithm', 'Precision', 'Accuracy', 'F1Score'])"
      ],
      "id": "86f5224d"
    },
    {
      "cell_type": "code",
      "source": [
        "from sklearn.neighbors import KNeighborsClassifier\n",
        "classifier = KNeighborsClassifier(n_neighbors = 3)\n",
        "classifier.fit(x_train, y_train)\n"
      ],
      "metadata": {
        "colab": {
          "base_uri": "https://localhost:8080/",
          "height": 204
        },
        "id": "jMzlz0Z_3uoJ",
        "outputId": "e3acf1a1-7051-4852-b20b-5e8209a0e8ac"
      },
      "id": "jMzlz0Z_3uoJ",
      "execution_count": null,
      "outputs": [
        {
          "output_type": "error",
          "ename": "NameError",
          "evalue": "ignored",
          "traceback": [
            "\u001b[0;31m---------------------------------------------------------------------------\u001b[0m",
            "\u001b[0;31mNameError\u001b[0m                                 Traceback (most recent call last)",
            "\u001b[0;32m<ipython-input-19-eef1b7aa8a74>\u001b[0m in \u001b[0;36m<module>\u001b[0;34m\u001b[0m\n\u001b[1;32m      1\u001b[0m \u001b[0;32mfrom\u001b[0m \u001b[0msklearn\u001b[0m\u001b[0;34m.\u001b[0m\u001b[0mneighbors\u001b[0m \u001b[0;32mimport\u001b[0m \u001b[0mKNeighborsClassifier\u001b[0m\u001b[0;34m\u001b[0m\u001b[0;34m\u001b[0m\u001b[0m\n\u001b[1;32m      2\u001b[0m \u001b[0mclassifier\u001b[0m \u001b[0;34m=\u001b[0m \u001b[0mKNeighborsClassifier\u001b[0m\u001b[0;34m(\u001b[0m\u001b[0mn_neighbors\u001b[0m \u001b[0;34m=\u001b[0m \u001b[0;36m3\u001b[0m\u001b[0;34m)\u001b[0m\u001b[0;34m\u001b[0m\u001b[0;34m\u001b[0m\u001b[0m\n\u001b[0;32m----> 3\u001b[0;31m \u001b[0mclassifier\u001b[0m\u001b[0;34m.\u001b[0m\u001b[0mfit\u001b[0m\u001b[0;34m(\u001b[0m\u001b[0mx_train\u001b[0m\u001b[0;34m,\u001b[0m \u001b[0my_train\u001b[0m\u001b[0;34m)\u001b[0m\u001b[0;34m\u001b[0m\u001b[0;34m\u001b[0m\u001b[0m\n\u001b[0m",
            "\u001b[0;31mNameError\u001b[0m: name 'x_train' is not defined"
          ]
        }
      ]
    },
    {
      "cell_type": "code",
      "execution_count": null,
      "metadata": {
        "id": "130a4fb1",
        "outputId": "4e93bf5e-3250-4dd5-f7a9-021fec44c419"
      },
      "outputs": [
        {
          "data": {
            "text/html": [
              "<div>\n",
              "<style scoped>\n",
              "    .dataframe tbody tr th:only-of-type {\n",
              "        vertical-align: middle;\n",
              "    }\n",
              "\n",
              "    .dataframe tbody tr th {\n",
              "        vertical-align: top;\n",
              "    }\n",
              "\n",
              "    .dataframe thead th {\n",
              "        text-align: right;\n",
              "    }\n",
              "</style>\n",
              "<table border=\"1\" class=\"dataframe\">\n",
              "  <thead>\n",
              "    <tr style=\"text-align: right;\">\n",
              "      <th></th>\n",
              "      <th>Algorithm</th>\n",
              "      <th>Precision</th>\n",
              "      <th>Accuracy</th>\n",
              "      <th>F1Score</th>\n",
              "    </tr>\n",
              "  </thead>\n",
              "  <tbody>\n",
              "    <tr>\n",
              "      <th>0</th>\n",
              "      <td>SVC</td>\n",
              "      <td>0.791296</td>\n",
              "      <td>800</td>\n",
              "      <td>0.791296</td>\n",
              "    </tr>\n",
              "    <tr>\n",
              "      <th>1</th>\n",
              "      <td>RFC</td>\n",
              "      <td>0.896142</td>\n",
              "      <td>906</td>\n",
              "      <td>0.896142</td>\n",
              "    </tr>\n",
              "  </tbody>\n",
              "</table>\n",
              "</div>"
            ],
            "text/plain": [
              "  Algorithm  Precision  Accuracy   F1Score\n",
              "0       SVC   0.791296       800  0.791296\n",
              "1       RFC   0.896142       906  0.896142"
            ]
          },
          "execution_count": 181,
          "metadata": {},
          "output_type": "execute_result"
        }
      ],
      "source": [
        "comparison"
      ],
      "id": "130a4fb1"
    }
  ],
  "metadata": {
    "colab": {
      "collapsed_sections": [
        "02079a5a",
        "1e662503",
        "1bb18324",
        "05bbe130",
        "f02ed900",
        "4e33ffbc",
        "311ddc06",
        "10434e62",
        "c0cf43a1",
        "90e18292",
        "6baaf2ac",
        "297acca8",
        "5dd1b0ea",
        "cfb70c44",
        "a2f86b96"
      ],
      "provenance": []
    },
    "kernelspec": {
      "display_name": "Python 3 (ipykernel)",
      "language": "python",
      "name": "python3"
    },
    "language_info": {
      "codemirror_mode": {
        "name": "ipython",
        "version": 3
      },
      "file_extension": ".py",
      "mimetype": "text/x-python",
      "name": "python",
      "nbconvert_exporter": "python",
      "pygments_lexer": "ipython3",
      "version": "3.9.6"
    }
  },
  "nbformat": 4,
  "nbformat_minor": 5
}